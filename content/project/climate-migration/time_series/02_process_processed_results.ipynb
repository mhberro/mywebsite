{
 "cells": [
  {
   "cell_type": "code",
   "execution_count": null,
   "metadata": {},
   "outputs": [],
   "source": [
    "import csv\n",
    "from pathlib import Path\n",
    "\n",
    "import numpy as np\n",
    "import pandas as pd"
   ]
  },
  {
   "cell_type": "code",
   "execution_count": null,
   "metadata": {},
   "outputs": [],
   "source": [
    "Path().resolve()"
   ]
  },
  {
   "cell_type": "code",
   "execution_count": null,
   "metadata": {},
   "outputs": [],
   "source": [
    "data_cleaned_path = Path('data/cleaned')"
   ]
  },
  {
   "cell_type": "code",
   "execution_count": null,
   "metadata": {},
   "outputs": [],
   "source": [
    "first_loop_iteration = True\n",
    "column_names = ['date', 'zipcode', 'zip', 'PRCP', 'SNOW', 'SNWD', 'TMAX', 'TMIN', 'TOBS']\n",
    "for folder_path in Path('data/cleaned').iterdir():\n",
    "    if folder_path.is_dir():\n",
    "        if folder_path.name.startswith('zip_code_result_small'):\n",
    "            if first_loop_iteration:\n",
    "                df = pd.read_parquet(str(folder_path.resolve()))\n",
    "                df = df[column_names].copy()\n",
    "                first_loop_iteration = False\n",
    "            else:\n",
    "                df_next = pd.read_parquet(str(folder_path.resolve()))\n",
    "                df_next = df_next[column_names].copy()\n",
    "                df = pd.concat([df, df_next])\n",
    "                \n",
    "print(df.head(3))\n",
    "print(df.tail(3))"
   ]
  },
  {
   "cell_type": "code",
   "execution_count": null,
   "metadata": {},
   "outputs": [],
   "source": [
    "df['zipcode'] = df['zip']"
   ]
  },
  {
   "cell_type": "code",
   "execution_count": null,
   "metadata": {},
   "outputs": [],
   "source": [
    "df.drop_duplicates(\n",
    "    subset=['zipcode', 'date'],\n",
    "    inplace=True\n",
    ")"
   ]
  },
  {
   "cell_type": "code",
   "execution_count": null,
   "metadata": {},
   "outputs": [],
   "source": [
    "df.to_parquet(\n",
    "    f\"data/cleaned/all_zip_codes/\",\n",
    "    partition_cols=['zipcode']\n",
    ")"
   ]
  },
  {
   "cell_type": "code",
   "execution_count": null,
   "metadata": {},
   "outputs": [],
   "source": [
    "df.to_csv(\n",
    "    \"data/cleaned/all_zip_codes.csv\",\n",
    "    index=False,\n",
    "    quoting=csv.QUOTE_NONNUMERIC\n",
    ")"
   ]
  },
  {
   "cell_type": "code",
   "execution_count": null,
   "metadata": {},
   "outputs": [],
   "source": [
    "df_reloaded = pd.read_parquet(\"data/cleaned/all_zip_codes/\")\n",
    "df_reloaded.head()"
   ]
  },
  {
   "cell_type": "code",
   "execution_count": null,
   "metadata": {},
   "outputs": [],
   "source": [
    "(\n",
    "    df_reloaded\n",
    "    .groupby(['zip'])\n",
    "    .agg({'date': 'count'})\n",
    "    .sort_values(by=['date'])\n",
    "    .to_csv('data/zipcode_counts.csv', quoting=csv.QUOTE_NONNUMERIC)\n",
    ")"
   ]
  },
  {
   "cell_type": "code",
   "execution_count": null,
   "metadata": {},
   "outputs": [],
   "source": [
    "df_reloaded[df_reloaded['zip'] == '48301'].to_csv(\n",
    "    \"data/cleaned/all_zip_codes_48301.csv\",\n",
    "    index=False,\n",
    "    quoting=csv.QUOTE_NONNUMERIC\n",
    ")"
   ]
  },
  {
   "cell_type": "code",
   "execution_count": null,
   "metadata": {},
   "outputs": [],
   "source": [
    "df_from_csv = pd.read_csv(\n",
    "    \"data/cleaned/all_zip_codes.csv\",\n",
    "    quoting=csv.QUOTE_NONNUMERIC\n",
    ")\n",
    "df_from_csv.head()"
   ]
  },
  {
   "cell_type": "code",
   "execution_count": null,
   "metadata": {},
   "outputs": [],
   "source": []
  }
 ],
 "metadata": {
  "kernelspec": {
   "display_name": "Python 3",
   "language": "python",
   "name": "python3"
  },
  "language_info": {
   "codemirror_mode": {
    "name": "ipython",
    "version": 3
   },
   "file_extension": ".py",
   "mimetype": "text/x-python",
   "name": "python",
   "nbconvert_exporter": "python",
   "pygments_lexer": "ipython3",
   "version": "3.8.5"
  }
 },
 "nbformat": 4,
 "nbformat_minor": 4
}
