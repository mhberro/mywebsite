{
 "cells": [
  {
   "cell_type": "code",
   "execution_count": null,
   "metadata": {},
   "outputs": [],
   "source": [
    "import concurrent.futures\n",
    "import csv\n",
    "import multiprocessing\n",
    "from pathlib import Path\n",
    "import uuid\n",
    "\n",
    "from fbprophet import Prophet\n",
    "import numpy as np\n",
    "import pandas as pd"
   ]
  },
  {
   "cell_type": "code",
   "execution_count": null,
   "metadata": {},
   "outputs": [],
   "source": [
    "NUM_CPU_CORES = multiprocessing.cpu_count()"
   ]
  },
  {
   "cell_type": "code",
   "execution_count": null,
   "metadata": {},
   "outputs": [],
   "source": [
    "ATTRIBUTES = ['PRCP', 'SNOW', 'SNWD', 'TMAX', 'TMIN', 'TOBS']\n",
    "# ATTRIBUTES = ['TMIN']\n",
    "PREDICTION_YEARS = ['2030', '2040', '2050', '2060', '2070']\n",
    "\n",
    "\n",
    "zip_codes_path = Path('data/cleaned/all_zip_codes')\n",
    "arima_path = Path('data/arima/all_zip_codes')\n",
    "\n",
    "zip_code_paths = list(zip_codes_path.glob('*'))"
   ]
  },
  {
   "cell_type": "code",
   "execution_count": null,
   "metadata": {},
   "outputs": [],
   "source": [
    "def make_predictions(zip_code_path):\n",
    "    output_folder = arima_path / zip_code_path.name\n",
    "    if output_folder.exists():\n",
    "        # print(f\"Skipping {zip_code_path.name}\")\n",
    "        return\n",
    "    print(f\"Making predictions for {zip_code_path.name}\")\n",
    "\n",
    "    original_data = pd.read_parquet(zip_code_path.resolve())\n",
    "#     print(f\"zip: {original_data.iloc[0]['zip']}\")\n",
    "#     print(original_data.head(1))\n",
    "    output_data = {\n",
    "        'zip': [original_data.iloc[0]['zip']] * len(PREDICTION_YEARS),\n",
    "        'zipcode': [original_data.iloc[0]['zip']] * len(PREDICTION_YEARS),\n",
    "        'year': PREDICTION_YEARS\n",
    "    }\n",
    "    for attribute in ATTRIBUTES:\n",
    "#         print(attribute)\n",
    "        input_data = original_data[['date', attribute]].copy()\n",
    "        input_data.rename(\n",
    "            columns={\n",
    "                'date': 'ds',\n",
    "                attribute: 'y'\n",
    "            },\n",
    "            inplace=True\n",
    "        )\n",
    "#         print(input_data.head(1))\n",
    "\n",
    "        prophet_model = (\n",
    "            Prophet(\n",
    "                daily_seasonality=False,\n",
    "                yearly_seasonality=False\n",
    "            )\n",
    "            .fit(input_data)\n",
    "        )\n",
    "\n",
    "        max_date = original_data['date'].max()\n",
    "#         print(max_date)\n",
    "        predictions = (\n",
    "            pd.date_range(\n",
    "                start=max_date+pd.Timedelta(days=1),\n",
    "                end=pd.Timestamp('2070-12-31'),\n",
    "                name='ds'\n",
    "            )\n",
    "            .to_frame(index=False)\n",
    "        )\n",
    "#         print(predictions.head(1))\n",
    "#         print(predictions.tail(1))\n",
    "        predictions = prophet_model.predict(predictions)\n",
    "#         print(predictions.head(1))\n",
    "#         print(predictions.tail(1))\n",
    "\n",
    "        yearly_predictions = []\n",
    "        for prediction_year in PREDICTION_YEARS:\n",
    "            predictions_subset = predictions.loc[\n",
    "                (predictions['ds'] >= f\"{prediction_year}-01-01\")\n",
    "                & (predictions['ds'] <= f\"{prediction_year}-12-31T23:59:59\")\n",
    "            ]\n",
    "            print(predictions_subset['yhat'].mean())\n",
    "            yearly_predictions.append(predictions_subset['yhat'].mean())\n",
    "            output_data[attribute] = yearly_predictions\n",
    "\n",
    "    output_df = pd.DataFrame(output_data)\n",
    "    output_folder.mkdir()\n",
    "    output_df.to_csv(\n",
    "        output_folder / f\"{str(uuid.uuid1())}.csv\",\n",
    "        index=False,\n",
    "        quoting=csv.QUOTE_NONNUMERIC\n",
    "    )"
   ]
  },
  {
   "cell_type": "code",
   "execution_count": null,
   "metadata": {},
   "outputs": [],
   "source": [
    "for index, zip_code_path in enumerate(zip_code_paths):\n",
    "    if zip_code_path.name == 'zipcode=37801': # if index <= 0:\n",
    "        print('hi')\n",
    "        make_predictions(zip_code_path)"
   ]
  },
  {
   "cell_type": "code",
   "execution_count": null,
   "metadata": {},
   "outputs": [],
   "source": [
    "with concurrent.futures.ProcessPoolExecutor(max_workers=NUM_CPU_CORES) as executor:\n",
    "    for zip_code_path, _ in zip(zip_code_paths, executor.map(make_predictions, zip_code_paths)):\n",
    "        pass"
   ]
  },
  {
   "cell_type": "code",
   "execution_count": null,
   "metadata": {},
   "outputs": [],
   "source": []
  }
 ],
 "metadata": {
  "kernelspec": {
   "display_name": "Python 3",
   "language": "python",
   "name": "python3"
  },
  "language_info": {
   "codemirror_mode": {
    "name": "ipython",
    "version": 3
   },
   "file_extension": ".py",
   "mimetype": "text/x-python",
   "name": "python",
   "nbconvert_exporter": "python",
   "pygments_lexer": "ipython3",
   "version": "3.8.5"
  }
 },
 "nbformat": 4,
 "nbformat_minor": 4
}
