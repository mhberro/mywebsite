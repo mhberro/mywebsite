{
 "cells": [
  {
   "cell_type": "code",
   "execution_count": null,
   "metadata": {},
   "outputs": [],
   "source": [
    "import concurrent.futures\n",
    "import csv\n",
    "import multiprocessing\n",
    "from pathlib import Path\n",
    "import uuid\n",
    "\n",
    "# import dask\n",
    "from fbprophet import Prophet\n",
    "import numpy as np\n",
    "import pandas as pd"
   ]
  },
  {
   "cell_type": "code",
   "execution_count": null,
   "metadata": {},
   "outputs": [],
   "source": [
    "arima_path = Path('data/arima')\n",
    "all_zip_codes_path = arima_path / 'all_zip_codes'\n",
    "\n",
    "zip_code_paths = list(all_zip_codes_path.glob('*'))\n",
    "zip_code_paths[:1]"
   ]
  },
  {
   "cell_type": "code",
   "execution_count": null,
   "metadata": {},
   "outputs": [],
   "source": [
    "dfs = []\n",
    "first_loop_iteration = True\n",
    "column_names = []\n",
    "for index, zip_code_path in enumerate(zip_code_paths):\n",
    "    if zip_code_path.name.startswith('zipcode='):\n",
    "        for csv_path in zip_code_path.glob('*.csv'):\n",
    "            dfs.append(\n",
    "                pd.read_csv(\n",
    "                    str(csv_path.resolve()),\n",
    "                    dtype={\n",
    "                        'zip': str,\n",
    "                        'zipcode': str\n",
    "                    }\n",
    "                )\n",
    "            )\n",
    "df = pd.concat(dfs)\n",
    "del df['zip']\n",
    "print(df.shape)\n",
    "df.head(1)"
   ]
  },
  {
   "cell_type": "code",
   "execution_count": null,
   "metadata": {},
   "outputs": [],
   "source": [
    "df.drop_duplicates(\n",
    "    subset=['zipcode', 'year'],\n",
    "    inplace=True\n",
    ")\n",
    "print(df.shape)\n",
    "df.head(1)"
   ]
  },
  {
   "cell_type": "code",
   "execution_count": null,
   "metadata": {},
   "outputs": [],
   "source": [
    "df[df['zipcode'] == '00601']"
   ]
  },
  {
   "cell_type": "code",
   "execution_count": null,
   "metadata": {},
   "outputs": [],
   "source": [
    "df.to_csv(\n",
    "    arima_path / 'NOAA_weather_forecast_predictions.csv',\n",
    "    index=False,\n",
    "    quoting=csv.QUOTE_NONNUMERIC\n",
    ")"
   ]
  },
  {
   "cell_type": "code",
   "execution_count": null,
   "metadata": {},
   "outputs": [],
   "source": [
    "df.to_json(\n",
    "    arima_path / 'NOAA_weather_forecast_predictions.json',\n",
    "    orient='records',\n",
    "    indent=2\n",
    ")"
   ]
  },
  {
   "cell_type": "code",
   "execution_count": null,
   "metadata": {},
   "outputs": [],
   "source": [
    "df.to_json(\n",
    "    arima_path / 'NOAA_weather_forecast_predictions.min.json',\n",
    "    orient='records'\n",
    ")"
   ]
  },
  {
   "cell_type": "code",
   "execution_count": null,
   "metadata": {},
   "outputs": [],
   "source": [
    "df_reloaded = pd.read_json(\n",
    "    arima_path / 'NOAA_weather_forecast_predictions.min.json',\n",
    "    dtype={'zipcode': str}\n",
    ")"
   ]
  },
  {
   "cell_type": "code",
   "execution_count": null,
   "metadata": {},
   "outputs": [],
   "source": [
    "df_reloaded = pd.read_csv(\n",
    "    arima_path / 'NOAA_weather_forecast_predictions.csv',\n",
    "    dtype={'zipcode': str}\n",
    ")\n",
    "df_reloaded"
   ]
  },
  {
   "cell_type": "code",
   "execution_count": null,
   "metadata": {},
   "outputs": [],
   "source": [
    "df_reloaded[df_reloaded['zipcode'] == '55001']"
   ]
  }
 ],
 "metadata": {
  "kernelspec": {
   "display_name": "Python 3",
   "language": "python",
   "name": "python3"
  },
  "language_info": {
   "codemirror_mode": {
    "name": "ipython",
    "version": 3
   },
   "file_extension": ".py",
   "mimetype": "text/x-python",
   "name": "python",
   "nbconvert_exporter": "python",
   "pygments_lexer": "ipython3",
   "version": "3.8.5"
  }
 },
 "nbformat": 4,
 "nbformat_minor": 4
}
