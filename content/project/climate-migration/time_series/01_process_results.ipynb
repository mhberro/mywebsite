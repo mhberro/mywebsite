{
 "cells": [
  {
   "cell_type": "code",
   "execution_count": null,
   "metadata": {},
   "outputs": [],
   "source": [
    "import csv\n",
    "\n",
    "import numpy as np\n",
    "import pandas as pd"
   ]
  },
  {
   "cell_type": "code",
   "execution_count": null,
   "metadata": {},
   "outputs": [],
   "source": [
    "# Done\n",
    "# FILENAME_WITHOUT_EXTENSION = 'zip_code_result_small_001-100_801-895_new'\n",
    "# FILENAME_WITHOUT_EXTENSION = 'zip_code_result_small_201-300'\n",
    "# FILENAME_WITHOUT_EXTENSION = 'zip_code_result_small_301-400'\n",
    "# FILENAME_WITHOUT_EXTENSION = 'zip_code_result_small_101-200'\n",
    "# FILENAME_WITHOUT_EXTENSION = 'zip_code_result_small_401-500'\n",
    "# FILENAME_WITHOUT_EXTENSION = 'zip_code_result_small_501-700'\n",
    "# FILENAME_WITHOUT_EXTENSION = 'zip_code_result_small_701-800'\n",
    "\n",
    "# Not Done\n",
    "\n",
    "# Won't Do\n",
    "# FILENAME_WITHOUT_EXTENSION = 'zip_code_result_small_001-100_800-895'\n",
    "\n",
    "VARIABLES_TO_KEEP = ['PRCP', 'SNOW', 'SNWD', 'TMAX', 'TMIN', 'TOBS']"
   ]
  },
  {
   "cell_type": "code",
   "execution_count": null,
   "metadata": {},
   "outputs": [],
   "source": [
    "df = pd.read_csv(\n",
    "    f\"data/raw_results/{FILENAME_WITHOUT_EXTENSION}.csv\",\n",
    "    header=0,\n",
    "    names=['zipcode', 'date', 'variable', 'unknown_a', 'value', 'unknown_b'],\n",
    "    # names=['zipcode', 'date', 'variable', 'unknown_a', 'unknown_b', 'value'],\n",
    "    dtype={'zipcode': str}\n",
    ")\n",
    "df['date'] = df['date'].astype('datetime64')\n",
    "df.head(5)"
   ]
  },
  {
   "cell_type": "code",
   "execution_count": null,
   "metadata": {},
   "outputs": [],
   "source": [
    "df.drop_duplicates(\n",
    "    subset=['zipcode', 'date', 'variable'],\n",
    "    inplace=True\n",
    ")"
   ]
  },
  {
   "cell_type": "code",
   "execution_count": null,
   "metadata": {},
   "outputs": [],
   "source": [
    "df['new_index'] = df['zipcode'] + '_' + df['date'].astype(str)\n",
    "df.head(3)"
   ]
  },
  {
   "cell_type": "code",
   "execution_count": null,
   "metadata": {},
   "outputs": [],
   "source": [
    "df_pivot = (\n",
    "    df\n",
    "    .pivot_table(\n",
    "        index='new_index',\n",
    "        columns='variable',\n",
    "        values='value'\n",
    "    )\n",
    "    .reset_index()\n",
    ")\n",
    "df_pivot.head(3)"
   ]
  },
  {
   "cell_type": "code",
   "execution_count": null,
   "metadata": {},
   "outputs": [],
   "source": [
    "df_pivot['zipcode'] = df_pivot['new_index'].apply(lambda a: a.split('_')[0])\n",
    "df_pivot['zip'] = df_pivot['zipcode']\n",
    "df_pivot['date'] = df_pivot['new_index'].apply(lambda a: a.split('_')[1])\n",
    "df_pivot['date'] = df_pivot['date'].astype('datetime64')\n",
    "df_pivot = df_pivot[['zipcode', 'zip', 'date'] + VARIABLES_TO_KEEP]\n",
    "df_pivot.columns.name = None\n",
    "print(df_pivot.shape)\n",
    "df_pivot.head(3)"
   ]
  },
  {
   "cell_type": "code",
   "execution_count": null,
   "metadata": {},
   "outputs": [],
   "source": [
    "all_dates = df_pivot['date'].unique()\n",
    "all_dates.sort()\n",
    "all_dates = (\n",
    "    pd.DataFrame(all_dates)\n",
    "    .rename(columns={0: 'date'})\n",
    ")\n",
    "all_dates.head(3)"
   ]
  },
  {
   "cell_type": "code",
   "execution_count": null,
   "metadata": {},
   "outputs": [],
   "source": [
    "df_pivot = all_dates.merge(\n",
    "    df_pivot,\n",
    "    how='left',\n",
    "    on='date'\n",
    ")\n",
    "print(df_pivot.shape)\n",
    "df_pivot.head(3)"
   ]
  },
  {
   "cell_type": "code",
   "execution_count": null,
   "metadata": {},
   "outputs": [],
   "source": [
    "df_pivot.sort_values(\n",
    "    by=['zipcode', 'date'],\n",
    "    inplace=True\n",
    ")\n",
    "df_pivot.head(3)"
   ]
  },
  {
   "cell_type": "code",
   "execution_count": null,
   "metadata": {},
   "outputs": [],
   "source": [
    "for column_name in VARIABLES_TO_KEEP:\n",
    "    df_pivot[column_name] = df_pivot[column_name].fillna(method='backfill')\n",
    "    df_pivot[column_name] = df_pivot[column_name].fillna(method='ffill')\n",
    "df_pivot.head(3)"
   ]
  },
  {
   "cell_type": "code",
   "execution_count": null,
   "metadata": {},
   "outputs": [],
   "source": [
    "df_pivot.to_parquet(\n",
    "    f\"data/cleaned/{FILENAME_WITHOUT_EXTENSION}/\",\n",
    "    partition_cols=['zipcode']\n",
    ")"
   ]
  },
  {
   "cell_type": "code",
   "execution_count": null,
   "metadata": {},
   "outputs": [],
   "source": [
    "# df_reloaded = pd.read_parquet(f\"data/cleaned/{FILENAME_WITHOUT_EXTENSION}/zipcode=54001\")\n",
    "df_reloaded = pd.read_parquet(f\"data/cleaned/{FILENAME_WITHOUT_EXTENSION}/\")\n",
    "df_reloaded.head()"
   ]
  },
  {
   "cell_type": "code",
   "execution_count": null,
   "metadata": {},
   "outputs": [],
   "source": []
  }
 ],
 "metadata": {
  "kernelspec": {
   "display_name": "Python 3",
   "language": "python",
   "name": "python3"
  },
  "language_info": {
   "codemirror_mode": {
    "name": "ipython",
    "version": 3
   },
   "file_extension": ".py",
   "mimetype": "text/x-python",
   "name": "python",
   "nbconvert_exporter": "python",
   "pygments_lexer": "ipython3",
   "version": "3.8.5"
  }
 },
 "nbformat": 4,
 "nbformat_minor": 4
}
