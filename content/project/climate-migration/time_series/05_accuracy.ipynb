{
 "cells": [
  {
   "cell_type": "code",
   "execution_count": null,
   "metadata": {},
   "outputs": [],
   "source": [
    "import concurrent.futures\n",
    "import csv\n",
    "import multiprocessing\n",
    "from pathlib import Path\n",
    "import uuid\n",
    "\n",
    "from fbprophet import Prophet\n",
    "import numpy as np\n",
    "import pandas as pd\n",
    "from sklearn.metrics import *"
   ]
  },
  {
   "cell_type": "markdown",
   "metadata": {},
   "source": [
    "## Find zip codes with > 20,000 rows in source data"
   ]
  },
  {
   "cell_type": "code",
   "execution_count": null,
   "metadata": {},
   "outputs": [],
   "source": [
    "data_cleaned_path = Path('data/cleaned')\n",
    "\n",
    "arima_path = Path('data/arima')\n",
    "all_zip_codes_path = arima_path / 'all_zip_codes_test'\n",
    "\n",
    "zip_code_paths = list(all_zip_codes_path.glob('*'))\n",
    "print(zip_code_paths[:1])\n",
    "\n",
    "ATTRIBUTES = ['PRCP', 'SNOW', 'SNWD', 'TMAX', 'TMIN', 'TOBS']\n",
    "PREDICTION_YEARS = ['2019']"
   ]
  },
  {
   "cell_type": "code",
   "execution_count": null,
   "metadata": {},
   "outputs": [],
   "source": [
    "df_reloaded = pd.read_parquet(f\"{Path('data/cleaned') / 'all_zip_codes'}/\")\n",
    "df_reloaded.head()"
   ]
  },
  {
   "cell_type": "code",
   "execution_count": null,
   "metadata": {},
   "outputs": [],
   "source": [
    "df_counts = (\n",
    "    df_reloaded\n",
    "    .groupby(['zip'])\n",
    "    .agg({'date': 'count'})\n",
    "    .sort_values(by=['date'])\n",
    ")\n",
    "print(df_counts.head())\n",
    "print(df_counts.tail())"
   ]
  },
  {
   "cell_type": "code",
   "execution_count": null,
   "metadata": {},
   "outputs": [],
   "source": [
    "df_filtered = (\n",
    "    df_counts[df_counts['date'] >= 20_000]\n",
    "    .reset_index()\n",
    "    .rename(columns={'date': 'count'})\n",
    ")\n",
    "df_filtered.head()"
   ]
  },
  {
   "cell_type": "markdown",
   "metadata": {},
   "source": [
    "## Train till 2009. Predict till 2019"
   ]
  },
  {
   "cell_type": "code",
   "execution_count": null,
   "metadata": {},
   "outputs": [],
   "source": [
    "clean_source_data_zip_code_path = Path('data/cleaned/all_zip_codes')\n",
    "all_zip_codes_path = Path('data/arima/all_zip_codes_test')\n",
    "\n",
    "clean_source_data_zip_code_paths = list(clean_source_data_zip_code_path.glob('*'))"
   ]
  },
  {
   "cell_type": "code",
   "execution_count": null,
   "metadata": {},
   "outputs": [],
   "source": [
    "def make_predictions(zip_code_path):\n",
    "    output_folder = all_zip_codes_path / zip_code_path.name\n",
    "    if output_folder.exists():\n",
    "        print(f\"Skipping {zip_code_path.name}\")\n",
    "        return\n",
    "    print(f\"Making predictions for {zip_code_path.name}\")\n",
    "\n",
    "    original_data = pd.read_parquet(zip_code_path.resolve())\n",
    "    if original_data['zip'].iloc[0] not in df_filtered['zip'].tolist():\n",
    "        return\n",
    "    \n",
    "    original_data = original_data[\n",
    "        original_data['date'] < pd.Timestamp('2010-01-01')\n",
    "    ]\n",
    "    \n",
    "#     print(f\"zip: {original_data.iloc[0]['zip']}\")\n",
    "#     print(original_data.head(1))\n",
    "    output_data = {\n",
    "        'zip': [original_data.iloc[0]['zip']] * len(PREDICTION_YEARS),\n",
    "        'zipcode': [original_data.iloc[0]['zip']] * len(PREDICTION_YEARS),\n",
    "        'year': PREDICTION_YEARS\n",
    "    }\n",
    "    for attribute in ATTRIBUTES:\n",
    "#         print(attribute)\n",
    "        input_data = original_data[['date', attribute]].copy()\n",
    "        input_data.rename(\n",
    "            columns={\n",
    "                'date': 'ds',\n",
    "                attribute: 'y'\n",
    "            },\n",
    "            inplace=True\n",
    "        )\n",
    "#         print(input_data.head(1))\n",
    "#         print(input_data.tail(1))\n",
    "\n",
    "        prophet_model = (\n",
    "            Prophet(\n",
    "                daily_seasonality=False,\n",
    "                yearly_seasonality=False\n",
    "            )\n",
    "            .fit(input_data)\n",
    "        )\n",
    "\n",
    "        max_date = original_data['date'].max()\n",
    "#         print(max_date)\n",
    "        predictions = (\n",
    "            pd.date_range(\n",
    "                start=pd.Timestamp('2010-01-01'),\n",
    "                end=pd.Timestamp('2019-12-31'),\n",
    "                name='ds'\n",
    "            )\n",
    "            .to_frame(index=False)\n",
    "        )\n",
    "#         print(predictions.head(1))\n",
    "#         print(predictions.tail(1))\n",
    "        predictions = prophet_model.predict(predictions)\n",
    "#         print(predictions.head(1))\n",
    "#         print(predictions.tail(1))\n",
    "\n",
    "        yearly_predictions = []\n",
    "        for prediction_year in PREDICTION_YEARS:\n",
    "            predictions_subset = predictions.loc[\n",
    "                (predictions['ds'] >= f\"{prediction_year}-01-01\")\n",
    "                & (predictions['ds'] <= f\"{prediction_year}-12-31T23:59:59\")\n",
    "            ]\n",
    "#             print(predictions_subset['yhat'].mean())\n",
    "            yearly_predictions.append(predictions_subset['yhat'].mean())\n",
    "            output_data[attribute] = yearly_predictions\n",
    "\n",
    "    output_df = pd.DataFrame(output_data)\n",
    "    output_folder.mkdir()\n",
    "    output_df.to_csv(\n",
    "        output_folder / f\"{str(uuid.uuid1())}.csv\",\n",
    "        index=False,\n",
    "        quoting=csv.QUOTE_NONNUMERIC\n",
    "    )"
   ]
  },
  {
   "cell_type": "code",
   "execution_count": null,
   "metadata": {},
   "outputs": [],
   "source": [
    "for index, zip_code_path in enumerate(clean_source_data_zip_code_paths):\n",
    "    if index <= 0: # if zip_code_path.name == 'zipcode=37801':\n",
    "        print('hi')\n",
    "        make_predictions(zip_code_path)"
   ]
  },
  {
   "cell_type": "code",
   "execution_count": null,
   "metadata": {},
   "outputs": [],
   "source": [
    "with concurrent.futures.ProcessPoolExecutor(max_workers=4) as executor:\n",
    "    for zip_code_path, _ in zip(\n",
    "            clean_source_data_zip_code_paths,\n",
    "            executor.map(make_predictions, clean_source_data_zip_code_paths)\n",
    "        ):\n",
    "        pass"
   ]
  },
  {
   "cell_type": "code",
   "execution_count": null,
   "metadata": {},
   "outputs": [],
   "source": [
    "dfs = []\n",
    "first_loop_iteration = True\n",
    "column_names = []\n",
    "for index, zip_code_path in enumerate(zip_code_paths):\n",
    "    if zip_code_path.name.startswith('zipcode='):\n",
    "        for csv_path in zip_code_path.glob('*.csv'):\n",
    "            dfs.append(\n",
    "                pd.read_csv(\n",
    "                    str(csv_path.resolve()),\n",
    "                    dtype={\n",
    "                        'zip': str,\n",
    "                        'zipcode': str\n",
    "                    }\n",
    "                )\n",
    "            )\n",
    "df_predictions = pd.concat(dfs)\n",
    "del df_predictions['zip']\n",
    "print(df_predictions.shape)\n",
    "df_predictions.head(3)"
   ]
  },
  {
   "cell_type": "markdown",
   "metadata": {},
   "source": [
    "## Get accuracy for 2019"
   ]
  },
  {
   "cell_type": "markdown",
   "metadata": {},
   "source": [
    "### Put original dataframe in yearly format"
   ]
  },
  {
   "cell_type": "code",
   "execution_count": null,
   "metadata": {},
   "outputs": [],
   "source": [
    "df_reloaded['year'] = df_reloaded['date'].dt.year\n",
    "df_reloaded.head(3)"
   ]
  },
  {
   "cell_type": "code",
   "execution_count": null,
   "metadata": {},
   "outputs": [],
   "source": [
    "df_reloaded_yearly = (\n",
    "    df_reloaded\n",
    "    .groupby(['zip', 'year'])\n",
    "    .agg({\n",
    "        'PRCP': 'mean',\n",
    "        'SNOW': 'mean',\n",
    "        'SNWD': 'mean',\n",
    "        'TMAX': 'mean',\n",
    "        'TMIN': 'mean',\n",
    "        'TOBS': 'mean'\n",
    "    })\n",
    "    .reset_index()\n",
    "    .rename(columns={'zip': 'zipcode'})\n",
    ")\n",
    "df_reloaded_yearly = df_reloaded_yearly[df_reloaded_yearly['year'] == 2019]\n",
    "print(df_reloaded_yearly.shape)\n",
    "df_reloaded_yearly.head(3)"
   ]
  },
  {
   "cell_type": "markdown",
   "metadata": {},
   "source": [
    "### Get accuracies"
   ]
  },
  {
   "cell_type": "code",
   "execution_count": null,
   "metadata": {},
   "outputs": [],
   "source": [
    "df_both = (\n",
    "    df_predictions\n",
    "    .merge(\n",
    "        df_reloaded_yearly,\n",
    "        on='zipcode',\n",
    "        suffixes=('_pred', '')\n",
    "    )\n",
    ")\n",
    "print(df_both.shape)\n",
    "df_both.head(3)"
   ]
  },
  {
   "cell_type": "code",
   "execution_count": null,
   "metadata": {},
   "outputs": [],
   "source": [
    "for attribute in ATTRIBUTES:\n",
    "    print(f\"Attribute: {attribute}\")\n",
    "    rmse = mean_squared_error(\n",
    "        y_true=df_both[attribute],\n",
    "        y_pred=df_both[f\"{attribute}_pred\"],\n",
    "        squared=False\n",
    "    )\n",
    "    mae = mean_absolute_error(\n",
    "        y_true=df_both[attribute],\n",
    "        y_pred=df_both[f\"{attribute}_pred\"]\n",
    "    )\n",
    "    r2 = r2_score(\n",
    "        y_true=df_both[attribute],\n",
    "        y_pred=df_both[f\"{attribute}_pred\"]\n",
    "    )\n",
    "    print(f\"RMSE: {round(rmse, 2)}\")\n",
    "    print(f\"MAE: {round(mae, 2)}\")\n",
    "    print(f\"R^2: {round(r2, 2)}\")\n",
    "    print()\n",
    "print()\n",
    "print(\"These metrics were calculated by taking the data up to 2009 and predicting 10 years out until 2019. The 2019 predictions were compared against the 2019 yearly averages for each zip code in our actual data.\")"
   ]
  }
 ],
 "metadata": {
  "kernelspec": {
   "display_name": "Python 3",
   "language": "python",
   "name": "python3"
  },
  "language_info": {
   "codemirror_mode": {
    "name": "ipython",
    "version": 3
   },
   "file_extension": ".py",
   "mimetype": "text/x-python",
   "name": "python",
   "nbconvert_exporter": "python",
   "pygments_lexer": "ipython3",
   "version": "3.8.5"
  }
 },
 "nbformat": 4,
 "nbformat_minor": 4
}
