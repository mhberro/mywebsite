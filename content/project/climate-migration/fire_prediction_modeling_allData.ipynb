{
 "cells": [
  {
   "cell_type": "code",
   "execution_count": 96,
   "metadata": {},
   "outputs": [],
   "source": [
    "import pandas as pd\n",
    "import zipfile\n",
    "import numpy as np\n",
    "import random\n",
    "\n",
    "from sklearn.model_selection import train_test_split\n",
    "from sklearn.neural_network import MLPClassifier\n",
    "from sklearn.metrics import confusion_matrix, roc_auc_score\n",
    "from sklearn import preprocessing, metrics\n",
    "from sklearn.ensemble import RandomForestClassifier\n",
    "import matplotlib.pyplot as plt"
   ]
  },
  {
   "cell_type": "markdown",
   "metadata": {},
   "source": [
    "# Content\n",
    "\n",
    "## 1. Clean data\n",
    "- 1) Clean weather data\n",
    "- 2) Clean disaster data and extract fire data\n",
    "- 3) Join weather and fire data\n",
    "\n",
    "## 2. Train model\n",
    "- 1) Train test split\n",
    "- 2) Scale and downsample\n",
    "- 3) MLP classifier\n",
    "- 4) Random forest classifier\n",
    "\n",
    "## 3. Prediction future fire\n",
    "- 1) Load predicted weather data\n",
    "- 2) Scale predicted weather data\n",
    "- 3) Predict fire"
   ]
  },
  {
   "cell_type": "code",
   "execution_count": null,
   "metadata": {},
   "outputs": [],
   "source": []
  },
  {
   "cell_type": "markdown",
   "metadata": {},
   "source": [
    "## Clean data"
   ]
  },
  {
   "cell_type": "markdown",
   "metadata": {},
   "source": [
    "#### 1) Clean weather data"
   ]
  },
  {
   "cell_type": "code",
   "execution_count": 2,
   "metadata": {},
   "outputs": [],
   "source": [
    "zp = zipfile.ZipFile('cleaned_data/all_zip_codes_all.zip')\n",
    "weather_df = pd.read_csv(zp.open(\"all_zip_codes.csv\"), converters={'zip': lambda x: str(x)}) #include leading zeros"
   ]
  },
  {
   "cell_type": "code",
   "execution_count": 3,
   "metadata": {},
   "outputs": [
    {
     "data": {
      "text/html": [
       "<div>\n",
       "<style scoped>\n",
       "    .dataframe tbody tr th:only-of-type {\n",
       "        vertical-align: middle;\n",
       "    }\n",
       "\n",
       "    .dataframe tbody tr th {\n",
       "        vertical-align: top;\n",
       "    }\n",
       "\n",
       "    .dataframe thead th {\n",
       "        text-align: right;\n",
       "    }\n",
       "</style>\n",
       "<table border=\"1\" class=\"dataframe\">\n",
       "  <thead>\n",
       "    <tr style=\"text-align: right;\">\n",
       "      <th></th>\n",
       "      <th>date</th>\n",
       "      <th>zipcode</th>\n",
       "      <th>zip</th>\n",
       "      <th>PRCP</th>\n",
       "      <th>SNOW</th>\n",
       "      <th>SNWD</th>\n",
       "      <th>TMAX</th>\n",
       "      <th>TMIN</th>\n",
       "      <th>TOBS</th>\n",
       "    </tr>\n",
       "  </thead>\n",
       "  <tbody>\n",
       "    <tr>\n",
       "      <th>0</th>\n",
       "      <td>1950-01-01</td>\n",
       "      <td>601</td>\n",
       "      <td>00601</td>\n",
       "      <td>18.0</td>\n",
       "      <td>0.0</td>\n",
       "      <td>0.0</td>\n",
       "      <td>183.0</td>\n",
       "      <td>128.0</td>\n",
       "      <td>156.0</td>\n",
       "    </tr>\n",
       "    <tr>\n",
       "      <th>1</th>\n",
       "      <td>1950-01-02</td>\n",
       "      <td>601</td>\n",
       "      <td>00601</td>\n",
       "      <td>18.0</td>\n",
       "      <td>0.0</td>\n",
       "      <td>0.0</td>\n",
       "      <td>194.0</td>\n",
       "      <td>122.0</td>\n",
       "      <td>167.0</td>\n",
       "    </tr>\n",
       "    <tr>\n",
       "      <th>2</th>\n",
       "      <td>1950-01-03</td>\n",
       "      <td>601</td>\n",
       "      <td>00601</td>\n",
       "      <td>0.0</td>\n",
       "      <td>0.0</td>\n",
       "      <td>0.0</td>\n",
       "      <td>211.0</td>\n",
       "      <td>133.0</td>\n",
       "      <td>183.0</td>\n",
       "    </tr>\n",
       "    <tr>\n",
       "      <th>3</th>\n",
       "      <td>1950-01-04</td>\n",
       "      <td>601</td>\n",
       "      <td>00601</td>\n",
       "      <td>0.0</td>\n",
       "      <td>0.0</td>\n",
       "      <td>0.0</td>\n",
       "      <td>200.0</td>\n",
       "      <td>144.0</td>\n",
       "      <td>167.0</td>\n",
       "    </tr>\n",
       "    <tr>\n",
       "      <th>4</th>\n",
       "      <td>1950-01-05</td>\n",
       "      <td>601</td>\n",
       "      <td>00601</td>\n",
       "      <td>0.0</td>\n",
       "      <td>0.0</td>\n",
       "      <td>0.0</td>\n",
       "      <td>217.0</td>\n",
       "      <td>139.0</td>\n",
       "      <td>167.0</td>\n",
       "    </tr>\n",
       "  </tbody>\n",
       "</table>\n",
       "</div>"
      ],
      "text/plain": [
       "         date  zipcode    zip  PRCP  SNOW  SNWD   TMAX   TMIN   TOBS\n",
       "0  1950-01-01      601  00601  18.0   0.0   0.0  183.0  128.0  156.0\n",
       "1  1950-01-02      601  00601  18.0   0.0   0.0  194.0  122.0  167.0\n",
       "2  1950-01-03      601  00601   0.0   0.0   0.0  211.0  133.0  183.0\n",
       "3  1950-01-04      601  00601   0.0   0.0   0.0  200.0  144.0  167.0\n",
       "4  1950-01-05      601  00601   0.0   0.0   0.0  217.0  139.0  167.0"
      ]
     },
     "execution_count": 3,
     "metadata": {},
     "output_type": "execute_result"
    }
   ],
   "source": [
    "weather_df.head()\n",
    "#zip is same as zipcode, except that zip includes leading zeros"
   ]
  },
  {
   "cell_type": "code",
   "execution_count": 4,
   "metadata": {},
   "outputs": [
    {
     "data": {
      "text/html": [
       "<div>\n",
       "<style scoped>\n",
       "    .dataframe tbody tr th:only-of-type {\n",
       "        vertical-align: middle;\n",
       "    }\n",
       "\n",
       "    .dataframe tbody tr th {\n",
       "        vertical-align: top;\n",
       "    }\n",
       "\n",
       "    .dataframe thead th {\n",
       "        text-align: right;\n",
       "    }\n",
       "</style>\n",
       "<table border=\"1\" class=\"dataframe\">\n",
       "  <thead>\n",
       "    <tr style=\"text-align: right;\">\n",
       "      <th></th>\n",
       "      <th>date</th>\n",
       "      <th>zipcode</th>\n",
       "      <th>zip</th>\n",
       "      <th>PRCP</th>\n",
       "      <th>SNOW</th>\n",
       "      <th>SNWD</th>\n",
       "      <th>TMAX</th>\n",
       "      <th>TMIN</th>\n",
       "      <th>TOBS</th>\n",
       "    </tr>\n",
       "  </thead>\n",
       "  <tbody>\n",
       "    <tr>\n",
       "      <th>10955519</th>\n",
       "      <td>2020-10-22</td>\n",
       "      <td>39701</td>\n",
       "      <td>39701</td>\n",
       "      <td>0.0</td>\n",
       "      <td>0.0</td>\n",
       "      <td>0.0</td>\n",
       "      <td>272.0</td>\n",
       "      <td>183.0</td>\n",
       "      <td>233.0</td>\n",
       "    </tr>\n",
       "    <tr>\n",
       "      <th>10955520</th>\n",
       "      <td>2020-10-23</td>\n",
       "      <td>39701</td>\n",
       "      <td>39701</td>\n",
       "      <td>0.0</td>\n",
       "      <td>0.0</td>\n",
       "      <td>0.0</td>\n",
       "      <td>289.0</td>\n",
       "      <td>206.0</td>\n",
       "      <td>222.0</td>\n",
       "    </tr>\n",
       "    <tr>\n",
       "      <th>10955521</th>\n",
       "      <td>2020-10-26</td>\n",
       "      <td>39701</td>\n",
       "      <td>39701</td>\n",
       "      <td>0.0</td>\n",
       "      <td>0.0</td>\n",
       "      <td>0.0</td>\n",
       "      <td>206.0</td>\n",
       "      <td>133.0</td>\n",
       "      <td>172.0</td>\n",
       "    </tr>\n",
       "    <tr>\n",
       "      <th>10955522</th>\n",
       "      <td>2020-10-27</td>\n",
       "      <td>39701</td>\n",
       "      <td>39701</td>\n",
       "      <td>0.0</td>\n",
       "      <td>0.0</td>\n",
       "      <td>0.0</td>\n",
       "      <td>256.0</td>\n",
       "      <td>156.0</td>\n",
       "      <td>161.0</td>\n",
       "    </tr>\n",
       "    <tr>\n",
       "      <th>10955523</th>\n",
       "      <td>2020-10-28</td>\n",
       "      <td>39701</td>\n",
       "      <td>39701</td>\n",
       "      <td>0.0</td>\n",
       "      <td>0.0</td>\n",
       "      <td>0.0</td>\n",
       "      <td>250.0</td>\n",
       "      <td>161.0</td>\n",
       "      <td>228.0</td>\n",
       "    </tr>\n",
       "  </tbody>\n",
       "</table>\n",
       "</div>"
      ],
      "text/plain": [
       "                date  zipcode    zip  PRCP  SNOW  SNWD   TMAX   TMIN   TOBS\n",
       "10955519  2020-10-22    39701  39701   0.0   0.0   0.0  272.0  183.0  233.0\n",
       "10955520  2020-10-23    39701  39701   0.0   0.0   0.0  289.0  206.0  222.0\n",
       "10955521  2020-10-26    39701  39701   0.0   0.0   0.0  206.0  133.0  172.0\n",
       "10955522  2020-10-27    39701  39701   0.0   0.0   0.0  256.0  156.0  161.0\n",
       "10955523  2020-10-28    39701  39701   0.0   0.0   0.0  250.0  161.0  228.0"
      ]
     },
     "execution_count": 4,
     "metadata": {},
     "output_type": "execute_result"
    }
   ],
   "source": [
    "weather_df.tail()"
   ]
  },
  {
   "cell_type": "code",
   "execution_count": 135,
   "metadata": {},
   "outputs": [
    {
     "data": {
      "text/plain": [
       "Index(['date', 'zipcode', 'zip', 'PRCP', 'SNOW', 'SNWD', 'TMAX', 'TMIN',\n",
       "       'TOBS'],\n",
       "      dtype='object')"
      ]
     },
     "execution_count": 135,
     "metadata": {},
     "output_type": "execute_result"
    }
   ],
   "source": [
    "weather_df.columns"
   ]
  },
  {
   "cell_type": "code",
   "execution_count": 5,
   "metadata": {},
   "outputs": [
    {
     "data": {
      "text/plain": [
       "10955524"
      ]
     },
     "execution_count": 5,
     "metadata": {},
     "output_type": "execute_result"
    }
   ],
   "source": [
    "len(weather_df)"
   ]
  },
  {
   "cell_type": "code",
   "execution_count": 6,
   "metadata": {},
   "outputs": [
    {
     "data": {
      "text/plain": [
       "652"
      ]
     },
     "execution_count": 6,
     "metadata": {},
     "output_type": "execute_result"
    }
   ],
   "source": [
    "weather_df['zipcode'].nunique()"
   ]
  },
  {
   "cell_type": "code",
   "execution_count": 7,
   "metadata": {},
   "outputs": [
    {
     "data": {
      "text/plain": [
       "array([  601,   703,   901,  1201,  1301,  1420,  1501,  1602,  1701,\n",
       "        1801,  2019,  2108,  2301,  2420,  2601,  3031,  3101,  3301,\n",
       "        3431,  3561,  3740,  3801,  3901,  4001,  4101,  4210,  4330,\n",
       "        4401,  4530,  4605,  4730,  4841,  4901,  5001,  5101,  5201,\n",
       "        5301,  5401,  5602,  5701,  5819,  6001,  6103,  6226,  6320,\n",
       "        6401,  6604,  6801,  7001,  7102,  7302,  7501,  7701,  7901,\n",
       "        8201,  8302,  8401,  8701,  8801,  8901, 10801, 10901, 11001,\n",
       "       11101, 11501, 11701, 89001, 89101, 89301, 89701, 89801, 90401,\n",
       "       90501, 90601, 90701, 90802, 91001, 91101, 91201, 91301, 91401,\n",
       "       91501, 91601, 91701, 91901, 92101, 92201, 92301, 92501, 92602,\n",
       "       92701, 93001, 93101, 93401, 93501, 93601, 93901, 94002, 94102,\n",
       "       94301])"
      ]
     },
     "execution_count": 7,
     "metadata": {},
     "output_type": "execute_result"
    }
   ],
   "source": [
    "weather_df['zipcode'].unique()[:100]"
   ]
  },
  {
   "cell_type": "code",
   "execution_count": 8,
   "metadata": {},
   "outputs": [
    {
     "data": {
      "text/plain": [
       "652"
      ]
     },
     "execution_count": 8,
     "metadata": {},
     "output_type": "execute_result"
    }
   ],
   "source": [
    "weather_df['zip'].nunique()"
   ]
  },
  {
   "cell_type": "code",
   "execution_count": 9,
   "metadata": {},
   "outputs": [
    {
     "data": {
      "text/plain": [
       "array(['00601', '00703', '00901', '01201', '01301', '01420', '01501',\n",
       "       '01602', '01701', '01801', '02019', '02108', '02301', '02420',\n",
       "       '02601', '03031', '03101', '03301', '03431', '03561', '03740',\n",
       "       '03801', '03901', '04001', '04101', '04210', '04330', '04401',\n",
       "       '04530', '04605', '04730', '04841', '04901', '05001', '05101',\n",
       "       '05201', '05301', '05401', '05602', '05701', '05819', '06001',\n",
       "       '06103', '06226', '06320', '06401', '06604', '06801', '07001',\n",
       "       '07102', '07302', '07501', '07701', '07901', '08201', '08302',\n",
       "       '08401', '08701', '08801', '08901', '10801', '10901', '11001',\n",
       "       '11101', '11501', '11701', '89001', '89101', '89301', '89701',\n",
       "       '89801', '90401', '90501', '90601', '90701', '90802', '91001',\n",
       "       '91101', '91201', '91301', '91401', '91501', '91601', '91701',\n",
       "       '91901', '92101', '92201', '92301', '92501', '92602', '92701',\n",
       "       '93001', '93101', '93401', '93501', '93601', '93901', '94002',\n",
       "       '94102', '94301'], dtype=object)"
      ]
     },
     "execution_count": 9,
     "metadata": {},
     "output_type": "execute_result"
    }
   ],
   "source": [
    "weather_df['zip'].unique()[:100]"
   ]
  },
  {
   "cell_type": "code",
   "execution_count": 10,
   "metadata": {},
   "outputs": [
    {
     "data": {
      "text/plain": [
       "date        object\n",
       "zipcode      int64\n",
       "zip         object\n",
       "PRCP       float64\n",
       "SNOW       float64\n",
       "SNWD       float64\n",
       "TMAX       float64\n",
       "TMIN       float64\n",
       "TOBS       float64\n",
       "dtype: object"
      ]
     },
     "execution_count": 10,
     "metadata": {},
     "output_type": "execute_result"
    }
   ],
   "source": [
    "weather_df.dtypes"
   ]
  },
  {
   "cell_type": "code",
   "execution_count": 11,
   "metadata": {},
   "outputs": [],
   "source": [
    "# map zip code to fips code for weather data\n",
    "zip_fips_df = pd.read_csv(\"cleaned_data/ZIP-COUNTY-FIPS_2017-06.csv\")"
   ]
  },
  {
   "cell_type": "code",
   "execution_count": 12,
   "metadata": {},
   "outputs": [
    {
     "data": {
      "text/plain": [
       "array([36003, 36006, 36067, ...,   820,   830,   802])"
      ]
     },
     "execution_count": 12,
     "metadata": {},
     "output_type": "execute_result"
    }
   ],
   "source": [
    "zip_fips_df['ZIP'].unique()"
   ]
  },
  {
   "cell_type": "code",
   "execution_count": 13,
   "metadata": {},
   "outputs": [],
   "source": [
    "weather_fips_df = weather_df.merge(zip_fips_df, how = 'left', left_on = 'zipcode', right_on='ZIP')"
   ]
  },
  {
   "cell_type": "code",
   "execution_count": 14,
   "metadata": {},
   "outputs": [
    {
     "data": {
      "text/html": [
       "<div>\n",
       "<style scoped>\n",
       "    .dataframe tbody tr th:only-of-type {\n",
       "        vertical-align: middle;\n",
       "    }\n",
       "\n",
       "    .dataframe tbody tr th {\n",
       "        vertical-align: top;\n",
       "    }\n",
       "\n",
       "    .dataframe thead th {\n",
       "        text-align: right;\n",
       "    }\n",
       "</style>\n",
       "<table border=\"1\" class=\"dataframe\">\n",
       "  <thead>\n",
       "    <tr style=\"text-align: right;\">\n",
       "      <th></th>\n",
       "      <th>date</th>\n",
       "      <th>zipcode</th>\n",
       "      <th>zip</th>\n",
       "      <th>PRCP</th>\n",
       "      <th>SNOW</th>\n",
       "      <th>SNWD</th>\n",
       "      <th>TMAX</th>\n",
       "      <th>TMIN</th>\n",
       "      <th>TOBS</th>\n",
       "      <th>ZIP</th>\n",
       "      <th>COUNTYNAME</th>\n",
       "      <th>STATE</th>\n",
       "      <th>FIPS code</th>\n",
       "    </tr>\n",
       "  </thead>\n",
       "  <tbody>\n",
       "    <tr>\n",
       "      <th>0</th>\n",
       "      <td>1950-01-01</td>\n",
       "      <td>601</td>\n",
       "      <td>00601</td>\n",
       "      <td>18.0</td>\n",
       "      <td>0.0</td>\n",
       "      <td>0.0</td>\n",
       "      <td>183.0</td>\n",
       "      <td>128.0</td>\n",
       "      <td>156.0</td>\n",
       "      <td>601</td>\n",
       "      <td>Adjuntas Municipio</td>\n",
       "      <td>PR</td>\n",
       "      <td>72001</td>\n",
       "    </tr>\n",
       "    <tr>\n",
       "      <th>1</th>\n",
       "      <td>1950-01-01</td>\n",
       "      <td>601</td>\n",
       "      <td>00601</td>\n",
       "      <td>18.0</td>\n",
       "      <td>0.0</td>\n",
       "      <td>0.0</td>\n",
       "      <td>183.0</td>\n",
       "      <td>128.0</td>\n",
       "      <td>156.0</td>\n",
       "      <td>601</td>\n",
       "      <td>Ponce Municipio</td>\n",
       "      <td>PR</td>\n",
       "      <td>72113</td>\n",
       "    </tr>\n",
       "    <tr>\n",
       "      <th>2</th>\n",
       "      <td>1950-01-02</td>\n",
       "      <td>601</td>\n",
       "      <td>00601</td>\n",
       "      <td>18.0</td>\n",
       "      <td>0.0</td>\n",
       "      <td>0.0</td>\n",
       "      <td>194.0</td>\n",
       "      <td>122.0</td>\n",
       "      <td>167.0</td>\n",
       "      <td>601</td>\n",
       "      <td>Adjuntas Municipio</td>\n",
       "      <td>PR</td>\n",
       "      <td>72001</td>\n",
       "    </tr>\n",
       "    <tr>\n",
       "      <th>3</th>\n",
       "      <td>1950-01-02</td>\n",
       "      <td>601</td>\n",
       "      <td>00601</td>\n",
       "      <td>18.0</td>\n",
       "      <td>0.0</td>\n",
       "      <td>0.0</td>\n",
       "      <td>194.0</td>\n",
       "      <td>122.0</td>\n",
       "      <td>167.0</td>\n",
       "      <td>601</td>\n",
       "      <td>Ponce Municipio</td>\n",
       "      <td>PR</td>\n",
       "      <td>72113</td>\n",
       "    </tr>\n",
       "    <tr>\n",
       "      <th>4</th>\n",
       "      <td>1950-01-03</td>\n",
       "      <td>601</td>\n",
       "      <td>00601</td>\n",
       "      <td>0.0</td>\n",
       "      <td>0.0</td>\n",
       "      <td>0.0</td>\n",
       "      <td>211.0</td>\n",
       "      <td>133.0</td>\n",
       "      <td>183.0</td>\n",
       "      <td>601</td>\n",
       "      <td>Adjuntas Municipio</td>\n",
       "      <td>PR</td>\n",
       "      <td>72001</td>\n",
       "    </tr>\n",
       "  </tbody>\n",
       "</table>\n",
       "</div>"
      ],
      "text/plain": [
       "         date  zipcode    zip  PRCP  SNOW  SNWD   TMAX   TMIN   TOBS  ZIP  \\\n",
       "0  1950-01-01      601  00601  18.0   0.0   0.0  183.0  128.0  156.0  601   \n",
       "1  1950-01-01      601  00601  18.0   0.0   0.0  183.0  128.0  156.0  601   \n",
       "2  1950-01-02      601  00601  18.0   0.0   0.0  194.0  122.0  167.0  601   \n",
       "3  1950-01-02      601  00601  18.0   0.0   0.0  194.0  122.0  167.0  601   \n",
       "4  1950-01-03      601  00601   0.0   0.0   0.0  211.0  133.0  183.0  601   \n",
       "\n",
       "           COUNTYNAME STATE  FIPS code  \n",
       "0  Adjuntas Municipio    PR      72001  \n",
       "1     Ponce Municipio    PR      72113  \n",
       "2  Adjuntas Municipio    PR      72001  \n",
       "3     Ponce Municipio    PR      72113  \n",
       "4  Adjuntas Municipio    PR      72001  "
      ]
     },
     "execution_count": 14,
     "metadata": {},
     "output_type": "execute_result"
    }
   ],
   "source": [
    "#get weather data with fips code\n",
    "weather_fips_df.head()"
   ]
  },
  {
   "cell_type": "code",
   "execution_count": 15,
   "metadata": {},
   "outputs": [
    {
     "data": {
      "text/plain": [
       "16380869"
      ]
     },
     "execution_count": 15,
     "metadata": {},
     "output_type": "execute_result"
    }
   ],
   "source": [
    "len(weather_fips_df)"
   ]
  },
  {
   "cell_type": "markdown",
   "metadata": {},
   "source": [
    "#### 2) Clean disaster data and extract fire data"
   ]
  },
  {
   "cell_type": "code",
   "execution_count": 16,
   "metadata": {},
   "outputs": [],
   "source": [
    "# data description: https://www.fema.gov/openfema-data-page/disaster-declarations-summaries-v2\n",
    "disaster_df = pd.read_csv(\"cleaned_data/DisasterDeclarationsSummaries_1.1.csv\")"
   ]
  },
  {
   "cell_type": "code",
   "execution_count": 17,
   "metadata": {},
   "outputs": [
    {
     "data": {
      "text/plain": [
       "Index(['femaDeclarationString', 'disasterNumber', 'state', 'declarationType',\n",
       "       'declarationDate', 'fyDeclared', 'incidentType', 'declarationTitle',\n",
       "       'ihProgramDeclared', 'iaProgramDeclared', 'paProgramDeclared',\n",
       "       'hmProgramDeclared', 'incidentBeginDate', 'incidentEndDate',\n",
       "       'disasterCloseoutDate', 'fipsStateCode', 'helperState',\n",
       "       'fipsCountyCode', 'helperCounty', 'fipscode', 'placeCode',\n",
       "       'designatedArea', 'declarationRequestNumber', 'hash', 'lastRefresh',\n",
       "       'id'],\n",
       "      dtype='object')"
      ]
     },
     "execution_count": 17,
     "metadata": {},
     "output_type": "execute_result"
    }
   ],
   "source": [
    "disaster_df.columns"
   ]
  },
  {
   "cell_type": "code",
   "execution_count": 18,
   "metadata": {
    "scrolled": true
   },
   "outputs": [
    {
     "data": {
      "text/html": [
       "<div>\n",
       "<style scoped>\n",
       "    .dataframe tbody tr th:only-of-type {\n",
       "        vertical-align: middle;\n",
       "    }\n",
       "\n",
       "    .dataframe tbody tr th {\n",
       "        vertical-align: top;\n",
       "    }\n",
       "\n",
       "    .dataframe thead th {\n",
       "        text-align: right;\n",
       "    }\n",
       "</style>\n",
       "<table border=\"1\" class=\"dataframe\">\n",
       "  <thead>\n",
       "    <tr style=\"text-align: right;\">\n",
       "      <th></th>\n",
       "      <th>femaDeclarationString</th>\n",
       "      <th>disasterNumber</th>\n",
       "      <th>state</th>\n",
       "      <th>declarationType</th>\n",
       "      <th>declarationDate</th>\n",
       "      <th>fyDeclared</th>\n",
       "      <th>incidentType</th>\n",
       "      <th>declarationTitle</th>\n",
       "      <th>ihProgramDeclared</th>\n",
       "      <th>iaProgramDeclared</th>\n",
       "      <th>...</th>\n",
       "      <th>helperState</th>\n",
       "      <th>fipsCountyCode</th>\n",
       "      <th>helperCounty</th>\n",
       "      <th>fipscode</th>\n",
       "      <th>placeCode</th>\n",
       "      <th>designatedArea</th>\n",
       "      <th>declarationRequestNumber</th>\n",
       "      <th>hash</th>\n",
       "      <th>lastRefresh</th>\n",
       "      <th>id</th>\n",
       "    </tr>\n",
       "  </thead>\n",
       "  <tbody>\n",
       "    <tr>\n",
       "      <th>0</th>\n",
       "      <td>DR-1-GA</td>\n",
       "      <td>1</td>\n",
       "      <td>GA</td>\n",
       "      <td>DR</td>\n",
       "      <td>1953-05-02T04:00:00.000Z</td>\n",
       "      <td>1953</td>\n",
       "      <td>Tornado</td>\n",
       "      <td>TORNADO</td>\n",
       "      <td>0</td>\n",
       "      <td>1</td>\n",
       "      <td>...</td>\n",
       "      <td>13</td>\n",
       "      <td>0</td>\n",
       "      <td>0</td>\n",
       "      <td>13000</td>\n",
       "      <td>0</td>\n",
       "      <td>Statewide</td>\n",
       "      <td>53013</td>\n",
       "      <td>2f28952448e0a666d367ca3f854c81ec</td>\n",
       "      <td>2020-10-05T14:21:20.694Z</td>\n",
       "      <td>5f7b2be031a8c6681cfb4342</td>\n",
       "    </tr>\n",
       "    <tr>\n",
       "      <th>1</th>\n",
       "      <td>DR-2-TX</td>\n",
       "      <td>2</td>\n",
       "      <td>TX</td>\n",
       "      <td>DR</td>\n",
       "      <td>1953-05-15T04:00:00.000Z</td>\n",
       "      <td>1953</td>\n",
       "      <td>Tornado</td>\n",
       "      <td>TORNADO &amp; HEAVY RAINFALL</td>\n",
       "      <td>0</td>\n",
       "      <td>1</td>\n",
       "      <td>...</td>\n",
       "      <td>48</td>\n",
       "      <td>0</td>\n",
       "      <td>0</td>\n",
       "      <td>48000</td>\n",
       "      <td>0</td>\n",
       "      <td>Statewide</td>\n",
       "      <td>53003</td>\n",
       "      <td>c5a1a4a1030d6730d9c562cdbe7c830f</td>\n",
       "      <td>2020-10-05T14:21:20.696Z</td>\n",
       "      <td>5f7b2be031a8c6681cfb4345</td>\n",
       "    </tr>\n",
       "    <tr>\n",
       "      <th>2</th>\n",
       "      <td>DR-5-MT</td>\n",
       "      <td>5</td>\n",
       "      <td>MT</td>\n",
       "      <td>DR</td>\n",
       "      <td>1953-06-06T04:00:00.000Z</td>\n",
       "      <td>1953</td>\n",
       "      <td>Flood</td>\n",
       "      <td>FLOODS</td>\n",
       "      <td>0</td>\n",
       "      <td>1</td>\n",
       "      <td>...</td>\n",
       "      <td>30</td>\n",
       "      <td>0</td>\n",
       "      <td>0</td>\n",
       "      <td>30000</td>\n",
       "      <td>0</td>\n",
       "      <td>Statewide</td>\n",
       "      <td>53006</td>\n",
       "      <td>59c5483387ca13c6a3c1bc692f4860e1</td>\n",
       "      <td>2020-10-05T14:21:20.698Z</td>\n",
       "      <td>5f7b2be031a8c6681cfb4348</td>\n",
       "    </tr>\n",
       "    <tr>\n",
       "      <th>3</th>\n",
       "      <td>DR-7-MA</td>\n",
       "      <td>7</td>\n",
       "      <td>MA</td>\n",
       "      <td>DR</td>\n",
       "      <td>1953-06-11T04:00:00.000Z</td>\n",
       "      <td>1953</td>\n",
       "      <td>Tornado</td>\n",
       "      <td>TORNADO</td>\n",
       "      <td>0</td>\n",
       "      <td>1</td>\n",
       "      <td>...</td>\n",
       "      <td>25</td>\n",
       "      <td>0</td>\n",
       "      <td>0</td>\n",
       "      <td>25000</td>\n",
       "      <td>0</td>\n",
       "      <td>Statewide</td>\n",
       "      <td>53009</td>\n",
       "      <td>6bab17e16984fc75f61a8445df3e95d9</td>\n",
       "      <td>2020-10-05T14:21:20.699Z</td>\n",
       "      <td>5f7b2be031a8c6681cfb434b</td>\n",
       "    </tr>\n",
       "    <tr>\n",
       "      <th>4</th>\n",
       "      <td>DR-8-IA</td>\n",
       "      <td>8</td>\n",
       "      <td>IA</td>\n",
       "      <td>DR</td>\n",
       "      <td>1953-06-11T04:00:00.000Z</td>\n",
       "      <td>1953</td>\n",
       "      <td>Flood</td>\n",
       "      <td>FLOOD</td>\n",
       "      <td>0</td>\n",
       "      <td>1</td>\n",
       "      <td>...</td>\n",
       "      <td>19</td>\n",
       "      <td>0</td>\n",
       "      <td>0</td>\n",
       "      <td>19000</td>\n",
       "      <td>0</td>\n",
       "      <td>Statewide</td>\n",
       "      <td>53008</td>\n",
       "      <td>e258e9dd25fac73939f59c8ffb5308f5</td>\n",
       "      <td>2020-10-05T14:21:20.700Z</td>\n",
       "      <td>5f7b2be031a8c6681cfb434e</td>\n",
       "    </tr>\n",
       "  </tbody>\n",
       "</table>\n",
       "<p>5 rows × 26 columns</p>\n",
       "</div>"
      ],
      "text/plain": [
       "  femaDeclarationString  disasterNumber state declarationType  \\\n",
       "0               DR-1-GA               1    GA              DR   \n",
       "1               DR-2-TX               2    TX              DR   \n",
       "2               DR-5-MT               5    MT              DR   \n",
       "3               DR-7-MA               7    MA              DR   \n",
       "4               DR-8-IA               8    IA              DR   \n",
       "\n",
       "            declarationDate  fyDeclared incidentType  \\\n",
       "0  1953-05-02T04:00:00.000Z        1953      Tornado   \n",
       "1  1953-05-15T04:00:00.000Z        1953      Tornado   \n",
       "2  1953-06-06T04:00:00.000Z        1953        Flood   \n",
       "3  1953-06-11T04:00:00.000Z        1953      Tornado   \n",
       "4  1953-06-11T04:00:00.000Z        1953        Flood   \n",
       "\n",
       "           declarationTitle  ihProgramDeclared  iaProgramDeclared  ...  \\\n",
       "0                   TORNADO                  0                  1  ...   \n",
       "1  TORNADO & HEAVY RAINFALL                  0                  1  ...   \n",
       "2                    FLOODS                  0                  1  ...   \n",
       "3                   TORNADO                  0                  1  ...   \n",
       "4                     FLOOD                  0                  1  ...   \n",
       "\n",
       "   helperState  fipsCountyCode helperCounty fipscode placeCode  \\\n",
       "0           13               0            0    13000         0   \n",
       "1           48               0            0    48000         0   \n",
       "2           30               0            0    30000         0   \n",
       "3           25               0            0    25000         0   \n",
       "4           19               0            0    19000         0   \n",
       "\n",
       "   designatedArea  declarationRequestNumber                              hash  \\\n",
       "0       Statewide                     53013  2f28952448e0a666d367ca3f854c81ec   \n",
       "1       Statewide                     53003  c5a1a4a1030d6730d9c562cdbe7c830f   \n",
       "2       Statewide                     53006  59c5483387ca13c6a3c1bc692f4860e1   \n",
       "3       Statewide                     53009  6bab17e16984fc75f61a8445df3e95d9   \n",
       "4       Statewide                     53008  e258e9dd25fac73939f59c8ffb5308f5   \n",
       "\n",
       "                lastRefresh                        id  \n",
       "0  2020-10-05T14:21:20.694Z  5f7b2be031a8c6681cfb4342  \n",
       "1  2020-10-05T14:21:20.696Z  5f7b2be031a8c6681cfb4345  \n",
       "2  2020-10-05T14:21:20.698Z  5f7b2be031a8c6681cfb4348  \n",
       "3  2020-10-05T14:21:20.699Z  5f7b2be031a8c6681cfb434b  \n",
       "4  2020-10-05T14:21:20.700Z  5f7b2be031a8c6681cfb434e  \n",
       "\n",
       "[5 rows x 26 columns]"
      ]
     },
     "execution_count": 18,
     "metadata": {},
     "output_type": "execute_result"
    }
   ],
   "source": [
    "disaster_df.head()"
   ]
  },
  {
   "cell_type": "code",
   "execution_count": 19,
   "metadata": {},
   "outputs": [
    {
     "data": {
      "text/plain": [
       "0        1953-05-02T04:00:00.000Z\n",
       "1        1953-05-15T04:00:00.000Z\n",
       "2        1953-06-06T04:00:00.000Z\n",
       "3        1953-06-11T04:00:00.000Z\n",
       "4        1953-06-11T04:00:00.000Z\n",
       "                   ...           \n",
       "60218    2020-10-08T17:30:00.000Z\n",
       "60219    2020-10-08T17:30:00.000Z\n",
       "60220    2020-10-08T17:30:00.000Z\n",
       "60221    2020-10-08T17:30:00.000Z\n",
       "60222    2020-09-20T16:40:00.000Z\n",
       "Name: declarationDate, Length: 60223, dtype: object"
      ]
     },
     "execution_count": 19,
     "metadata": {},
     "output_type": "execute_result"
    }
   ],
   "source": [
    "disaster_df['declarationDate']"
   ]
  },
  {
   "cell_type": "code",
   "execution_count": 20,
   "metadata": {},
   "outputs": [
    {
     "data": {
      "text/plain": [
       "(23, 2128)"
      ]
     },
     "execution_count": 20,
     "metadata": {},
     "output_type": "execute_result"
    }
   ],
   "source": [
    "disaster_df['incidentType'].nunique(), disaster_df['declarationTitle'].nunique()"
   ]
  },
  {
   "cell_type": "code",
   "execution_count": 21,
   "metadata": {},
   "outputs": [
    {
     "data": {
      "text/plain": [
       "array(['Tornado', 'Flood', 'Fire', 'Other', 'Earthquake', 'Hurricane',\n",
       "       'Volcano', 'Severe Storm(s)', 'Toxic Substances', 'Typhoon',\n",
       "       'Dam/Levee Break', 'Drought', 'Snow', 'Severe Ice Storm',\n",
       "       'Freezing', 'Coastal Storm', 'Fishing Losses', 'Mud/Landslide',\n",
       "       'Human Cause', 'Terrorist', 'Tsunami', 'Chemical', 'Biological'],\n",
       "      dtype=object)"
      ]
     },
     "execution_count": 21,
     "metadata": {},
     "output_type": "execute_result"
    }
   ],
   "source": [
    "disaster_df['incidentType'].unique()"
   ]
  },
  {
   "cell_type": "code",
   "execution_count": 22,
   "metadata": {},
   "outputs": [
    {
     "data": {
      "text/plain": [
       "array(['FOREST FIRE', 'FIRES', 'FIRE (LOS ANGELES COUNTY)', ...,\n",
       "       'ZOGG FIRE', 'SQF FIRE COMPLEX', 'SOUTH OBENCHAIN FIRE'],\n",
       "      dtype=object)"
      ]
     },
     "execution_count": 22,
     "metadata": {},
     "output_type": "execute_result"
    }
   ],
   "source": [
    "disaster_df[disaster_df['incidentType'] == \"Fire\"]['declarationTitle'].unique() \n",
    "#use \"incidentType\""
   ]
  },
  {
   "cell_type": "code",
   "execution_count": 23,
   "metadata": {},
   "outputs": [],
   "source": [
    "disaster_df['fire'] = disaster_df['incidentType'].apply(lambda x:1 if x == 'Fire' else 0)"
   ]
  },
  {
   "cell_type": "code",
   "execution_count": 24,
   "metadata": {},
   "outputs": [
    {
     "data": {
      "text/html": [
       "<div>\n",
       "<style scoped>\n",
       "    .dataframe tbody tr th:only-of-type {\n",
       "        vertical-align: middle;\n",
       "    }\n",
       "\n",
       "    .dataframe tbody tr th {\n",
       "        vertical-align: top;\n",
       "    }\n",
       "\n",
       "    .dataframe thead th {\n",
       "        text-align: right;\n",
       "    }\n",
       "</style>\n",
       "<table border=\"1\" class=\"dataframe\">\n",
       "  <thead>\n",
       "    <tr style=\"text-align: right;\">\n",
       "      <th></th>\n",
       "      <th>femaDeclarationString</th>\n",
       "      <th>disasterNumber</th>\n",
       "      <th>state</th>\n",
       "      <th>declarationType</th>\n",
       "      <th>declarationDate</th>\n",
       "      <th>fyDeclared</th>\n",
       "      <th>incidentType</th>\n",
       "      <th>declarationTitle</th>\n",
       "      <th>ihProgramDeclared</th>\n",
       "      <th>iaProgramDeclared</th>\n",
       "      <th>...</th>\n",
       "      <th>fipsCountyCode</th>\n",
       "      <th>helperCounty</th>\n",
       "      <th>fipscode</th>\n",
       "      <th>placeCode</th>\n",
       "      <th>designatedArea</th>\n",
       "      <th>declarationRequestNumber</th>\n",
       "      <th>hash</th>\n",
       "      <th>lastRefresh</th>\n",
       "      <th>id</th>\n",
       "      <th>fire</th>\n",
       "    </tr>\n",
       "  </thead>\n",
       "  <tbody>\n",
       "    <tr>\n",
       "      <th>4974</th>\n",
       "      <td>DR-546-MA</td>\n",
       "      <td>546</td>\n",
       "      <td>MA</td>\n",
       "      <td>DR</td>\n",
       "      <td>1978-02-10T05:00:00.000Z</td>\n",
       "      <td>1978</td>\n",
       "      <td>Flood</td>\n",
       "      <td>COASTAL STORMS, FLOOD, ICE &amp; SNOW</td>\n",
       "      <td>0</td>\n",
       "      <td>1</td>\n",
       "      <td>...</td>\n",
       "      <td>1</td>\n",
       "      <td>1</td>\n",
       "      <td>25001</td>\n",
       "      <td>99001</td>\n",
       "      <td>Barnstable (County)</td>\n",
       "      <td>78044</td>\n",
       "      <td>6b54739846a781dd5d3ac3228c12438b</td>\n",
       "      <td>2020-10-05T14:21:28.411Z</td>\n",
       "      <td>5f7b2be831a8c6681cfb9850</td>\n",
       "      <td>0</td>\n",
       "    </tr>\n",
       "    <tr>\n",
       "      <th>4975</th>\n",
       "      <td>DR-546-MA</td>\n",
       "      <td>546</td>\n",
       "      <td>MA</td>\n",
       "      <td>DR</td>\n",
       "      <td>1978-02-10T05:00:00.000Z</td>\n",
       "      <td>1978</td>\n",
       "      <td>Flood</td>\n",
       "      <td>COASTAL STORMS, FLOOD, ICE &amp; SNOW</td>\n",
       "      <td>0</td>\n",
       "      <td>1</td>\n",
       "      <td>...</td>\n",
       "      <td>7</td>\n",
       "      <td>7</td>\n",
       "      <td>25007</td>\n",
       "      <td>99007</td>\n",
       "      <td>Dukes (County)</td>\n",
       "      <td>78044</td>\n",
       "      <td>7d9e79eacde69ff26f56c6abfc41bcbe</td>\n",
       "      <td>2020-10-05T14:21:28.412Z</td>\n",
       "      <td>5f7b2be831a8c6681cfb9852</td>\n",
       "      <td>0</td>\n",
       "    </tr>\n",
       "    <tr>\n",
       "      <th>4976</th>\n",
       "      <td>DR-546-MA</td>\n",
       "      <td>546</td>\n",
       "      <td>MA</td>\n",
       "      <td>DR</td>\n",
       "      <td>1978-02-10T05:00:00.000Z</td>\n",
       "      <td>1978</td>\n",
       "      <td>Flood</td>\n",
       "      <td>COASTAL STORMS, FLOOD, ICE &amp; SNOW</td>\n",
       "      <td>0</td>\n",
       "      <td>1</td>\n",
       "      <td>...</td>\n",
       "      <td>5</td>\n",
       "      <td>5</td>\n",
       "      <td>25005</td>\n",
       "      <td>99005</td>\n",
       "      <td>Bristol (County)(in (P)MSA 1120,1200,2480,5400...</td>\n",
       "      <td>78044</td>\n",
       "      <td>44a18d427378b578ca5082f23649f90c</td>\n",
       "      <td>2020-10-05T14:21:28.411Z</td>\n",
       "      <td>5f7b2be831a8c6681cfb9857</td>\n",
       "      <td>0</td>\n",
       "    </tr>\n",
       "    <tr>\n",
       "      <th>4977</th>\n",
       "      <td>DR-546-MA</td>\n",
       "      <td>546</td>\n",
       "      <td>MA</td>\n",
       "      <td>DR</td>\n",
       "      <td>1978-02-10T05:00:00.000Z</td>\n",
       "      <td>1978</td>\n",
       "      <td>Flood</td>\n",
       "      <td>COASTAL STORMS, FLOOD, ICE &amp; SNOW</td>\n",
       "      <td>0</td>\n",
       "      <td>1</td>\n",
       "      <td>...</td>\n",
       "      <td>9</td>\n",
       "      <td>9</td>\n",
       "      <td>25009</td>\n",
       "      <td>99009</td>\n",
       "      <td>Essex (County)(in PMSA 1120,4160,7090)</td>\n",
       "      <td>78044</td>\n",
       "      <td>69e5446f5f1aa650c9dd62b132584a9d</td>\n",
       "      <td>2020-10-05T14:21:28.414Z</td>\n",
       "      <td>5f7b2be831a8c6681cfb985f</td>\n",
       "      <td>0</td>\n",
       "    </tr>\n",
       "    <tr>\n",
       "      <th>4979</th>\n",
       "      <td>DR-546-MA</td>\n",
       "      <td>546</td>\n",
       "      <td>MA</td>\n",
       "      <td>DR</td>\n",
       "      <td>1978-02-10T05:00:00.000Z</td>\n",
       "      <td>1978</td>\n",
       "      <td>Flood</td>\n",
       "      <td>COASTAL STORMS, FLOOD, ICE &amp; SNOW</td>\n",
       "      <td>0</td>\n",
       "      <td>1</td>\n",
       "      <td>...</td>\n",
       "      <td>19</td>\n",
       "      <td>19</td>\n",
       "      <td>25019</td>\n",
       "      <td>99019</td>\n",
       "      <td>Nantucket (County)</td>\n",
       "      <td>78044</td>\n",
       "      <td>d63a74daea9f57409505b4aa19b3a090</td>\n",
       "      <td>2020-10-05T14:21:28.416Z</td>\n",
       "      <td>5f7b2be831a8c6681cfb986b</td>\n",
       "      <td>0</td>\n",
       "    </tr>\n",
       "  </tbody>\n",
       "</table>\n",
       "<p>5 rows × 27 columns</p>\n",
       "</div>"
      ],
      "text/plain": [
       "     femaDeclarationString  disasterNumber state declarationType  \\\n",
       "4974             DR-546-MA             546    MA              DR   \n",
       "4975             DR-546-MA             546    MA              DR   \n",
       "4976             DR-546-MA             546    MA              DR   \n",
       "4977             DR-546-MA             546    MA              DR   \n",
       "4979             DR-546-MA             546    MA              DR   \n",
       "\n",
       "               declarationDate  fyDeclared incidentType  \\\n",
       "4974  1978-02-10T05:00:00.000Z        1978        Flood   \n",
       "4975  1978-02-10T05:00:00.000Z        1978        Flood   \n",
       "4976  1978-02-10T05:00:00.000Z        1978        Flood   \n",
       "4977  1978-02-10T05:00:00.000Z        1978        Flood   \n",
       "4979  1978-02-10T05:00:00.000Z        1978        Flood   \n",
       "\n",
       "                       declarationTitle  ihProgramDeclared  iaProgramDeclared  \\\n",
       "4974  COASTAL STORMS, FLOOD, ICE & SNOW                  0                  1   \n",
       "4975  COASTAL STORMS, FLOOD, ICE & SNOW                  0                  1   \n",
       "4976  COASTAL STORMS, FLOOD, ICE & SNOW                  0                  1   \n",
       "4977  COASTAL STORMS, FLOOD, ICE & SNOW                  0                  1   \n",
       "4979  COASTAL STORMS, FLOOD, ICE & SNOW                  0                  1   \n",
       "\n",
       "      ...  fipsCountyCode  helperCounty fipscode placeCode  \\\n",
       "4974  ...               1             1    25001     99001   \n",
       "4975  ...               7             7    25007     99007   \n",
       "4976  ...               5             5    25005     99005   \n",
       "4977  ...               9             9    25009     99009   \n",
       "4979  ...              19            19    25019     99019   \n",
       "\n",
       "                                         designatedArea  \\\n",
       "4974                                Barnstable (County)   \n",
       "4975                                     Dukes (County)   \n",
       "4976  Bristol (County)(in (P)MSA 1120,1200,2480,5400...   \n",
       "4977             Essex (County)(in PMSA 1120,4160,7090)   \n",
       "4979                                 Nantucket (County)   \n",
       "\n",
       "      declarationRequestNumber                              hash  \\\n",
       "4974                     78044  6b54739846a781dd5d3ac3228c12438b   \n",
       "4975                     78044  7d9e79eacde69ff26f56c6abfc41bcbe   \n",
       "4976                     78044  44a18d427378b578ca5082f23649f90c   \n",
       "4977                     78044  69e5446f5f1aa650c9dd62b132584a9d   \n",
       "4979                     78044  d63a74daea9f57409505b4aa19b3a090   \n",
       "\n",
       "                   lastRefresh                        id  fire  \n",
       "4974  2020-10-05T14:21:28.411Z  5f7b2be831a8c6681cfb9850     0  \n",
       "4975  2020-10-05T14:21:28.412Z  5f7b2be831a8c6681cfb9852     0  \n",
       "4976  2020-10-05T14:21:28.411Z  5f7b2be831a8c6681cfb9857     0  \n",
       "4977  2020-10-05T14:21:28.414Z  5f7b2be831a8c6681cfb985f     0  \n",
       "4979  2020-10-05T14:21:28.416Z  5f7b2be831a8c6681cfb986b     0  \n",
       "\n",
       "[5 rows x 27 columns]"
      ]
     },
     "execution_count": 24,
     "metadata": {},
     "output_type": "execute_result"
    }
   ],
   "source": [
    "len(disaster_df[~(disaster_df['declarationDate'] == disaster_df['incidentBeginDate'])])\n",
    "disaster_df[~(disaster_df['declarationDate'] == disaster_df['incidentBeginDate'])].head()"
   ]
  },
  {
   "cell_type": "code",
   "execution_count": 25,
   "metadata": {},
   "outputs": [
    {
     "data": {
      "text/plain": [
       "femaDeclarationString       object\n",
       "disasterNumber               int64\n",
       "state                       object\n",
       "declarationType             object\n",
       "declarationDate             object\n",
       "fyDeclared                   int64\n",
       "incidentType                object\n",
       "declarationTitle            object\n",
       "ihProgramDeclared            int64\n",
       "iaProgramDeclared            int64\n",
       "paProgramDeclared            int64\n",
       "hmProgramDeclared            int64\n",
       "incidentBeginDate           object\n",
       "incidentEndDate             object\n",
       "disasterCloseoutDate        object\n",
       "fipsStateCode                int64\n",
       "helperState                  int64\n",
       "fipsCountyCode               int64\n",
       "helperCounty                 int64\n",
       "fipscode                     int64\n",
       "placeCode                    int64\n",
       "designatedArea              object\n",
       "declarationRequestNumber     int64\n",
       "hash                        object\n",
       "lastRefresh                 object\n",
       "id                          object\n",
       "fire                         int64\n",
       "dtype: object"
      ]
     },
     "execution_count": 25,
     "metadata": {},
     "output_type": "execute_result"
    }
   ],
   "source": [
    "disaster_df.dtypes"
   ]
  },
  {
   "cell_type": "code",
   "execution_count": 26,
   "metadata": {},
   "outputs": [],
   "source": [
    "#truncate start date from timestamp to only include yyyy-mm-dd\n",
    "disaster_df['start_date'] = disaster_df['incidentBeginDate'].apply(lambda x:x[:10])"
   ]
  },
  {
   "cell_type": "code",
   "execution_count": 27,
   "metadata": {},
   "outputs": [],
   "source": [
    "#disaster_df['end_date'] = disaster_df['incidentEndDate'].apply(lambda x:x[:10]) #the data is not clean"
   ]
  },
  {
   "cell_type": "code",
   "execution_count": 28,
   "metadata": {},
   "outputs": [
    {
     "data": {
      "text/plain": [
       "8398"
      ]
     },
     "execution_count": 28,
     "metadata": {},
     "output_type": "execute_result"
    }
   ],
   "source": [
    "sum(disaster_df['incidentBeginDate'] == disaster_df['incidentEndDate'])\n",
    "#incidentBeginData is not always same with incidentEndDate, so we need to generate one row for each date from begin to end date"
   ]
  },
  {
   "cell_type": "code",
   "execution_count": 29,
   "metadata": {},
   "outputs": [
    {
     "data": {
      "text/plain": [
       "0    1953-05-02T04:00:00.000Z\n",
       "1    1953-05-15T04:00:00.000Z\n",
       "2    1953-06-06T04:00:00.000Z\n",
       "3    1953-06-11T04:00:00.000Z\n",
       "4    1953-06-11T04:00:00.000Z\n",
       "Name: incidentEndDate, dtype: object"
      ]
     },
     "execution_count": 29,
     "metadata": {},
     "output_type": "execute_result"
    }
   ],
   "source": [
    "disaster_df['incidentEndDate'].head()"
   ]
  },
  {
   "cell_type": "code",
   "execution_count": 30,
   "metadata": {},
   "outputs": [],
   "source": [
    "#clean up end date from timestamp to only include yyyy-mm-dd\n",
    "end_date = []\n",
    "for i in disaster_df.iterrows():\n",
    "    try:\n",
    "        end_date.append(i[1]['incidentEndDate'][:10])\n",
    "    except:\n",
    "        end_date.append(i[1]['start_date'])\n",
    "        "
   ]
  },
  {
   "cell_type": "code",
   "execution_count": 31,
   "metadata": {},
   "outputs": [],
   "source": [
    "disaster_df['end_date'] = end_date"
   ]
  },
  {
   "cell_type": "code",
   "execution_count": 32,
   "metadata": {},
   "outputs": [
    {
     "data": {
      "text/html": [
       "<div>\n",
       "<style scoped>\n",
       "    .dataframe tbody tr th:only-of-type {\n",
       "        vertical-align: middle;\n",
       "    }\n",
       "\n",
       "    .dataframe tbody tr th {\n",
       "        vertical-align: top;\n",
       "    }\n",
       "\n",
       "    .dataframe thead th {\n",
       "        text-align: right;\n",
       "    }\n",
       "</style>\n",
       "<table border=\"1\" class=\"dataframe\">\n",
       "  <thead>\n",
       "    <tr style=\"text-align: right;\">\n",
       "      <th></th>\n",
       "      <th>femaDeclarationString</th>\n",
       "      <th>disasterNumber</th>\n",
       "      <th>state</th>\n",
       "      <th>declarationType</th>\n",
       "      <th>declarationDate</th>\n",
       "      <th>fyDeclared</th>\n",
       "      <th>incidentType</th>\n",
       "      <th>declarationTitle</th>\n",
       "      <th>ihProgramDeclared</th>\n",
       "      <th>iaProgramDeclared</th>\n",
       "      <th>...</th>\n",
       "      <th>fipscode</th>\n",
       "      <th>placeCode</th>\n",
       "      <th>designatedArea</th>\n",
       "      <th>declarationRequestNumber</th>\n",
       "      <th>hash</th>\n",
       "      <th>lastRefresh</th>\n",
       "      <th>id</th>\n",
       "      <th>fire</th>\n",
       "      <th>start_date</th>\n",
       "      <th>end_date</th>\n",
       "    </tr>\n",
       "  </thead>\n",
       "  <tbody>\n",
       "    <tr>\n",
       "      <th>0</th>\n",
       "      <td>DR-1-GA</td>\n",
       "      <td>1</td>\n",
       "      <td>GA</td>\n",
       "      <td>DR</td>\n",
       "      <td>1953-05-02T04:00:00.000Z</td>\n",
       "      <td>1953</td>\n",
       "      <td>Tornado</td>\n",
       "      <td>TORNADO</td>\n",
       "      <td>0</td>\n",
       "      <td>1</td>\n",
       "      <td>...</td>\n",
       "      <td>13000</td>\n",
       "      <td>0</td>\n",
       "      <td>Statewide</td>\n",
       "      <td>53013</td>\n",
       "      <td>2f28952448e0a666d367ca3f854c81ec</td>\n",
       "      <td>2020-10-05T14:21:20.694Z</td>\n",
       "      <td>5f7b2be031a8c6681cfb4342</td>\n",
       "      <td>0</td>\n",
       "      <td>1953-05-02</td>\n",
       "      <td>1953-05-02</td>\n",
       "    </tr>\n",
       "    <tr>\n",
       "      <th>1</th>\n",
       "      <td>DR-2-TX</td>\n",
       "      <td>2</td>\n",
       "      <td>TX</td>\n",
       "      <td>DR</td>\n",
       "      <td>1953-05-15T04:00:00.000Z</td>\n",
       "      <td>1953</td>\n",
       "      <td>Tornado</td>\n",
       "      <td>TORNADO &amp; HEAVY RAINFALL</td>\n",
       "      <td>0</td>\n",
       "      <td>1</td>\n",
       "      <td>...</td>\n",
       "      <td>48000</td>\n",
       "      <td>0</td>\n",
       "      <td>Statewide</td>\n",
       "      <td>53003</td>\n",
       "      <td>c5a1a4a1030d6730d9c562cdbe7c830f</td>\n",
       "      <td>2020-10-05T14:21:20.696Z</td>\n",
       "      <td>5f7b2be031a8c6681cfb4345</td>\n",
       "      <td>0</td>\n",
       "      <td>1953-05-15</td>\n",
       "      <td>1953-05-15</td>\n",
       "    </tr>\n",
       "    <tr>\n",
       "      <th>2</th>\n",
       "      <td>DR-5-MT</td>\n",
       "      <td>5</td>\n",
       "      <td>MT</td>\n",
       "      <td>DR</td>\n",
       "      <td>1953-06-06T04:00:00.000Z</td>\n",
       "      <td>1953</td>\n",
       "      <td>Flood</td>\n",
       "      <td>FLOODS</td>\n",
       "      <td>0</td>\n",
       "      <td>1</td>\n",
       "      <td>...</td>\n",
       "      <td>30000</td>\n",
       "      <td>0</td>\n",
       "      <td>Statewide</td>\n",
       "      <td>53006</td>\n",
       "      <td>59c5483387ca13c6a3c1bc692f4860e1</td>\n",
       "      <td>2020-10-05T14:21:20.698Z</td>\n",
       "      <td>5f7b2be031a8c6681cfb4348</td>\n",
       "      <td>0</td>\n",
       "      <td>1953-06-06</td>\n",
       "      <td>1953-06-06</td>\n",
       "    </tr>\n",
       "    <tr>\n",
       "      <th>3</th>\n",
       "      <td>DR-7-MA</td>\n",
       "      <td>7</td>\n",
       "      <td>MA</td>\n",
       "      <td>DR</td>\n",
       "      <td>1953-06-11T04:00:00.000Z</td>\n",
       "      <td>1953</td>\n",
       "      <td>Tornado</td>\n",
       "      <td>TORNADO</td>\n",
       "      <td>0</td>\n",
       "      <td>1</td>\n",
       "      <td>...</td>\n",
       "      <td>25000</td>\n",
       "      <td>0</td>\n",
       "      <td>Statewide</td>\n",
       "      <td>53009</td>\n",
       "      <td>6bab17e16984fc75f61a8445df3e95d9</td>\n",
       "      <td>2020-10-05T14:21:20.699Z</td>\n",
       "      <td>5f7b2be031a8c6681cfb434b</td>\n",
       "      <td>0</td>\n",
       "      <td>1953-06-11</td>\n",
       "      <td>1953-06-11</td>\n",
       "    </tr>\n",
       "    <tr>\n",
       "      <th>4</th>\n",
       "      <td>DR-8-IA</td>\n",
       "      <td>8</td>\n",
       "      <td>IA</td>\n",
       "      <td>DR</td>\n",
       "      <td>1953-06-11T04:00:00.000Z</td>\n",
       "      <td>1953</td>\n",
       "      <td>Flood</td>\n",
       "      <td>FLOOD</td>\n",
       "      <td>0</td>\n",
       "      <td>1</td>\n",
       "      <td>...</td>\n",
       "      <td>19000</td>\n",
       "      <td>0</td>\n",
       "      <td>Statewide</td>\n",
       "      <td>53008</td>\n",
       "      <td>e258e9dd25fac73939f59c8ffb5308f5</td>\n",
       "      <td>2020-10-05T14:21:20.700Z</td>\n",
       "      <td>5f7b2be031a8c6681cfb434e</td>\n",
       "      <td>0</td>\n",
       "      <td>1953-06-11</td>\n",
       "      <td>1953-06-11</td>\n",
       "    </tr>\n",
       "  </tbody>\n",
       "</table>\n",
       "<p>5 rows × 29 columns</p>\n",
       "</div>"
      ],
      "text/plain": [
       "  femaDeclarationString  disasterNumber state declarationType  \\\n",
       "0               DR-1-GA               1    GA              DR   \n",
       "1               DR-2-TX               2    TX              DR   \n",
       "2               DR-5-MT               5    MT              DR   \n",
       "3               DR-7-MA               7    MA              DR   \n",
       "4               DR-8-IA               8    IA              DR   \n",
       "\n",
       "            declarationDate  fyDeclared incidentType  \\\n",
       "0  1953-05-02T04:00:00.000Z        1953      Tornado   \n",
       "1  1953-05-15T04:00:00.000Z        1953      Tornado   \n",
       "2  1953-06-06T04:00:00.000Z        1953        Flood   \n",
       "3  1953-06-11T04:00:00.000Z        1953      Tornado   \n",
       "4  1953-06-11T04:00:00.000Z        1953        Flood   \n",
       "\n",
       "           declarationTitle  ihProgramDeclared  iaProgramDeclared  ...  \\\n",
       "0                   TORNADO                  0                  1  ...   \n",
       "1  TORNADO & HEAVY RAINFALL                  0                  1  ...   \n",
       "2                    FLOODS                  0                  1  ...   \n",
       "3                   TORNADO                  0                  1  ...   \n",
       "4                     FLOOD                  0                  1  ...   \n",
       "\n",
       "   fipscode  placeCode designatedArea declarationRequestNumber  \\\n",
       "0     13000          0      Statewide                    53013   \n",
       "1     48000          0      Statewide                    53003   \n",
       "2     30000          0      Statewide                    53006   \n",
       "3     25000          0      Statewide                    53009   \n",
       "4     19000          0      Statewide                    53008   \n",
       "\n",
       "                               hash               lastRefresh  \\\n",
       "0  2f28952448e0a666d367ca3f854c81ec  2020-10-05T14:21:20.694Z   \n",
       "1  c5a1a4a1030d6730d9c562cdbe7c830f  2020-10-05T14:21:20.696Z   \n",
       "2  59c5483387ca13c6a3c1bc692f4860e1  2020-10-05T14:21:20.698Z   \n",
       "3  6bab17e16984fc75f61a8445df3e95d9  2020-10-05T14:21:20.699Z   \n",
       "4  e258e9dd25fac73939f59c8ffb5308f5  2020-10-05T14:21:20.700Z   \n",
       "\n",
       "                         id  fire  start_date    end_date  \n",
       "0  5f7b2be031a8c6681cfb4342     0  1953-05-02  1953-05-02  \n",
       "1  5f7b2be031a8c6681cfb4345     0  1953-05-15  1953-05-15  \n",
       "2  5f7b2be031a8c6681cfb4348     0  1953-06-06  1953-06-06  \n",
       "3  5f7b2be031a8c6681cfb434b     0  1953-06-11  1953-06-11  \n",
       "4  5f7b2be031a8c6681cfb434e     0  1953-06-11  1953-06-11  \n",
       "\n",
       "[5 rows x 29 columns]"
      ]
     },
     "execution_count": 32,
     "metadata": {},
     "output_type": "execute_result"
    }
   ],
   "source": [
    "disaster_df.head()"
   ]
  },
  {
   "cell_type": "code",
   "execution_count": 33,
   "metadata": {},
   "outputs": [
    {
     "data": {
      "text/plain": [
       "(3461, 3461)"
      ]
     },
     "execution_count": 33,
     "metadata": {},
     "output_type": "execute_result"
    }
   ],
   "source": [
    "sum(disaster_df['fire']), sum(disaster_df['incidentType'] == \"Fire\")"
   ]
  },
  {
   "cell_type": "code",
   "execution_count": 34,
   "metadata": {},
   "outputs": [
    {
     "data": {
      "text/plain": [
       "60223"
      ]
     },
     "execution_count": 34,
     "metadata": {},
     "output_type": "execute_result"
    }
   ],
   "source": [
    "len(disaster_df)"
   ]
  },
  {
   "cell_type": "code",
   "execution_count": 35,
   "metadata": {},
   "outputs": [
    {
     "data": {
      "text/plain": [
       "3223"
      ]
     },
     "execution_count": 35,
     "metadata": {},
     "output_type": "execute_result"
    }
   ],
   "source": [
    "#how many unique fips code\n",
    "zip_fips_df[\"FIPS code\"].nunique()"
   ]
  },
  {
   "cell_type": "code",
   "execution_count": 36,
   "metadata": {},
   "outputs": [
    {
     "data": {
      "text/plain": [
       "39456"
      ]
     },
     "execution_count": 36,
     "metadata": {},
     "output_type": "execute_result"
    }
   ],
   "source": [
    "zip_fips_df[\"ZIP\"].nunique() "
   ]
  },
  {
   "cell_type": "code",
   "execution_count": 37,
   "metadata": {},
   "outputs": [
    {
     "data": {
      "text/plain": [
       "3319"
      ]
     },
     "execution_count": 37,
     "metadata": {},
     "output_type": "execute_result"
    }
   ],
   "source": [
    "disaster_df[\"fipscode\"].nunique()"
   ]
  },
  {
   "cell_type": "code",
   "execution_count": 38,
   "metadata": {},
   "outputs": [
    {
     "data": {
      "text/html": [
       "<div>\n",
       "<style scoped>\n",
       "    .dataframe tbody tr th:only-of-type {\n",
       "        vertical-align: middle;\n",
       "    }\n",
       "\n",
       "    .dataframe tbody tr th {\n",
       "        vertical-align: top;\n",
       "    }\n",
       "\n",
       "    .dataframe thead th {\n",
       "        text-align: right;\n",
       "    }\n",
       "</style>\n",
       "<table border=\"1\" class=\"dataframe\">\n",
       "  <thead>\n",
       "    <tr style=\"text-align: right;\">\n",
       "      <th></th>\n",
       "      <th>fipscode</th>\n",
       "      <th>start_date</th>\n",
       "      <th>end_date</th>\n",
       "      <th>fire</th>\n",
       "    </tr>\n",
       "  </thead>\n",
       "  <tbody>\n",
       "    <tr>\n",
       "      <th>9</th>\n",
       "      <td>33000</td>\n",
       "      <td>1953-07-02</td>\n",
       "      <td>1953-07-02</td>\n",
       "      <td>1</td>\n",
       "    </tr>\n",
       "    <tr>\n",
       "      <th>63</th>\n",
       "      <td>6000</td>\n",
       "      <td>1956-12-29</td>\n",
       "      <td>1956-12-29</td>\n",
       "      <td>1</td>\n",
       "    </tr>\n",
       "    <tr>\n",
       "      <th>107</th>\n",
       "      <td>16000</td>\n",
       "      <td>1960-07-22</td>\n",
       "      <td>1960-07-22</td>\n",
       "      <td>1</td>\n",
       "    </tr>\n",
       "  </tbody>\n",
       "</table>\n",
       "</div>"
      ],
      "text/plain": [
       "     fipscode  start_date    end_date  fire\n",
       "9       33000  1953-07-02  1953-07-02     1\n",
       "63       6000  1956-12-29  1956-12-29     1\n",
       "107     16000  1960-07-22  1960-07-22     1"
      ]
     },
     "execution_count": 38,
     "metadata": {},
     "output_type": "execute_result"
    }
   ],
   "source": [
    "#get all the cols we need\n",
    "cols = ['fipscode', 'start_date', 'end_date', 'fire']\n",
    "fire = disaster_df[cols][disaster_df['fire'] == 1]\n",
    "fire.head(3)"
   ]
  },
  {
   "cell_type": "code",
   "execution_count": 39,
   "metadata": {},
   "outputs": [
    {
     "data": {
      "text/html": [
       "<div>\n",
       "<style scoped>\n",
       "    .dataframe tbody tr th:only-of-type {\n",
       "        vertical-align: middle;\n",
       "    }\n",
       "\n",
       "    .dataframe tbody tr th {\n",
       "        vertical-align: top;\n",
       "    }\n",
       "\n",
       "    .dataframe thead th {\n",
       "        text-align: right;\n",
       "    }\n",
       "</style>\n",
       "<table border=\"1\" class=\"dataframe\">\n",
       "  <thead>\n",
       "    <tr style=\"text-align: right;\">\n",
       "      <th></th>\n",
       "      <th>fipscode</th>\n",
       "      <th>start_date</th>\n",
       "      <th>end_date</th>\n",
       "      <th>fire</th>\n",
       "    </tr>\n",
       "  </thead>\n",
       "  <tbody>\n",
       "    <tr>\n",
       "      <th>6501</th>\n",
       "      <td>6053</td>\n",
       "      <td>1985-06-26</td>\n",
       "      <td>1985-07-19</td>\n",
       "      <td>1</td>\n",
       "    </tr>\n",
       "    <tr>\n",
       "      <th>6502</th>\n",
       "      <td>6079</td>\n",
       "      <td>1985-06-26</td>\n",
       "      <td>1985-07-19</td>\n",
       "      <td>1</td>\n",
       "    </tr>\n",
       "    <tr>\n",
       "      <th>6503</th>\n",
       "      <td>6085</td>\n",
       "      <td>1985-06-26</td>\n",
       "      <td>1985-07-19</td>\n",
       "      <td>1</td>\n",
       "    </tr>\n",
       "  </tbody>\n",
       "</table>\n",
       "</div>"
      ],
      "text/plain": [
       "      fipscode  start_date    end_date  fire\n",
       "6501      6053  1985-06-26  1985-07-19     1\n",
       "6502      6079  1985-06-26  1985-07-19     1\n",
       "6503      6085  1985-06-26  1985-07-19     1"
      ]
     },
     "execution_count": 39,
     "metadata": {},
     "output_type": "execute_result"
    }
   ],
   "source": [
    "fire[fire['start_date'] != fire['end_date']][:3]"
   ]
  },
  {
   "cell_type": "code",
   "execution_count": 40,
   "metadata": {},
   "outputs": [
    {
     "data": {
      "text/plain": [
       "3461"
      ]
     },
     "execution_count": 40,
     "metadata": {},
     "output_type": "execute_result"
    }
   ],
   "source": [
    "len(fire)"
   ]
  },
  {
   "cell_type": "code",
   "execution_count": 41,
   "metadata": {},
   "outputs": [],
   "source": [
    "#save cleaned fire data with date and fipscode\n",
    "import csv\n",
    "\n",
    "with open('cleaned_data/cleaned_fire_data.csv', 'a') as outputfile:\n",
    "    writer = csv.writer(outputfile, delimiter=',')\n",
    "    header = ['fipscode', 'date', 'fire']\n",
    "    writer.writerow(header)\n",
    "    \n",
    "    for i in fire.iterrows():\n",
    "        if i[1]['start_date'] == i[1]['end_date']:\n",
    "            val = [i[1]['fipscode'], i[1]['start_date'], i[1]['fire']]\n",
    "            writer.writerow(val)\n",
    "        else:\n",
    "            date_range = list(pd.date_range(start=i[1]['start_date'],end=i[1]['end_date']))\n",
    "            for d in date_range:\n",
    "                val = [i[1]['fipscode'], str(d)[:10], i[1]['fire']]\n",
    "                writer.writerow(val)"
   ]
  },
  {
   "cell_type": "code",
   "execution_count": 44,
   "metadata": {},
   "outputs": [
    {
     "data": {
      "text/html": [
       "<div>\n",
       "<style scoped>\n",
       "    .dataframe tbody tr th:only-of-type {\n",
       "        vertical-align: middle;\n",
       "    }\n",
       "\n",
       "    .dataframe tbody tr th {\n",
       "        vertical-align: top;\n",
       "    }\n",
       "\n",
       "    .dataframe thead th {\n",
       "        text-align: right;\n",
       "    }\n",
       "</style>\n",
       "<table border=\"1\" class=\"dataframe\">\n",
       "  <thead>\n",
       "    <tr style=\"text-align: right;\">\n",
       "      <th></th>\n",
       "      <th>fipscode</th>\n",
       "      <th>date</th>\n",
       "      <th>fire</th>\n",
       "    </tr>\n",
       "  </thead>\n",
       "  <tbody>\n",
       "    <tr>\n",
       "      <th>0</th>\n",
       "      <td>6000</td>\n",
       "      <td>1956-12-29</td>\n",
       "      <td>1</td>\n",
       "    </tr>\n",
       "    <tr>\n",
       "      <th>1</th>\n",
       "      <td>16000</td>\n",
       "      <td>1960-07-22</td>\n",
       "      <td>1</td>\n",
       "    </tr>\n",
       "    <tr>\n",
       "      <th>2</th>\n",
       "      <td>6000</td>\n",
       "      <td>1961-11-16</td>\n",
       "      <td>1</td>\n",
       "    </tr>\n",
       "    <tr>\n",
       "      <th>3</th>\n",
       "      <td>16009</td>\n",
       "      <td>1967-08-30</td>\n",
       "      <td>1</td>\n",
       "    </tr>\n",
       "    <tr>\n",
       "      <th>4</th>\n",
       "      <td>16017</td>\n",
       "      <td>1967-08-30</td>\n",
       "      <td>1</td>\n",
       "    </tr>\n",
       "  </tbody>\n",
       "</table>\n",
       "</div>"
      ],
      "text/plain": [
       "   fipscode        date  fire\n",
       "0      6000  1956-12-29     1\n",
       "1     16000  1960-07-22     1\n",
       "2      6000  1961-11-16     1\n",
       "3     16009  1967-08-30     1\n",
       "4     16017  1967-08-30     1"
      ]
     },
     "execution_count": 44,
     "metadata": {},
     "output_type": "execute_result"
    }
   ],
   "source": [
    "#exam the data\n",
    "clean_fire_df = pd.read_csv(\"cleaned_fire_data.csv\")\n",
    "clean_fire_df.columns = ['fipscode', 'date', 'fire']\n",
    "clean_fire_df.head()"
   ]
  },
  {
   "cell_type": "code",
   "execution_count": 45,
   "metadata": {},
   "outputs": [
    {
     "data": {
      "text/plain": [
       "fipscode     int64\n",
       "date        object\n",
       "fire         int64\n",
       "dtype: object"
      ]
     },
     "execution_count": 45,
     "metadata": {},
     "output_type": "execute_result"
    }
   ],
   "source": [
    "clean_fire_df.dtypes"
   ]
  },
  {
   "cell_type": "markdown",
   "metadata": {},
   "source": [
    "#### 3) Join weather data and fire data"
   ]
  },
  {
   "cell_type": "code",
   "execution_count": 48,
   "metadata": {},
   "outputs": [],
   "source": [
    "complete_df = weather_fips_df.merge(clean_fire_df, how = 'left', left_on = ['FIPS code', 'date'], right_on=['fipscode', 'date'])"
   ]
  },
  {
   "cell_type": "code",
   "execution_count": 49,
   "metadata": {},
   "outputs": [
    {
     "data": {
      "text/plain": [
       "16385692"
      ]
     },
     "execution_count": 49,
     "metadata": {},
     "output_type": "execute_result"
    }
   ],
   "source": [
    "# explore the joined data\n",
    "len(complete_df) #the same zip code may"
   ]
  },
  {
   "cell_type": "code",
   "execution_count": 50,
   "metadata": {},
   "outputs": [
    {
     "data": {
      "text/html": [
       "<div>\n",
       "<style scoped>\n",
       "    .dataframe tbody tr th:only-of-type {\n",
       "        vertical-align: middle;\n",
       "    }\n",
       "\n",
       "    .dataframe tbody tr th {\n",
       "        vertical-align: top;\n",
       "    }\n",
       "\n",
       "    .dataframe thead th {\n",
       "        text-align: right;\n",
       "    }\n",
       "</style>\n",
       "<table border=\"1\" class=\"dataframe\">\n",
       "  <thead>\n",
       "    <tr style=\"text-align: right;\">\n",
       "      <th></th>\n",
       "      <th>date</th>\n",
       "      <th>zipcode</th>\n",
       "      <th>zip</th>\n",
       "      <th>PRCP</th>\n",
       "      <th>SNOW</th>\n",
       "      <th>SNWD</th>\n",
       "      <th>TMAX</th>\n",
       "      <th>TMIN</th>\n",
       "      <th>TOBS</th>\n",
       "      <th>ZIP</th>\n",
       "      <th>COUNTYNAME</th>\n",
       "      <th>STATE</th>\n",
       "      <th>FIPS code</th>\n",
       "      <th>fipscode</th>\n",
       "      <th>fire</th>\n",
       "    </tr>\n",
       "  </thead>\n",
       "  <tbody>\n",
       "    <tr>\n",
       "      <th>118197</th>\n",
       "      <td>1999-12-03</td>\n",
       "      <td>1420</td>\n",
       "      <td>01420</td>\n",
       "      <td>0.0</td>\n",
       "      <td>0.0</td>\n",
       "      <td>0.0</td>\n",
       "      <td>100.0</td>\n",
       "      <td>11.0</td>\n",
       "      <td>94.0</td>\n",
       "      <td>1420</td>\n",
       "      <td>Worcester County</td>\n",
       "      <td>MA</td>\n",
       "      <td>25027</td>\n",
       "      <td>25027.0</td>\n",
       "      <td>1.0</td>\n",
       "    </tr>\n",
       "    <tr>\n",
       "      <th>118198</th>\n",
       "      <td>1999-12-04</td>\n",
       "      <td>1420</td>\n",
       "      <td>01420</td>\n",
       "      <td>10.0</td>\n",
       "      <td>0.0</td>\n",
       "      <td>0.0</td>\n",
       "      <td>111.0</td>\n",
       "      <td>28.0</td>\n",
       "      <td>94.0</td>\n",
       "      <td>1420</td>\n",
       "      <td>Worcester County</td>\n",
       "      <td>MA</td>\n",
       "      <td>25027</td>\n",
       "      <td>25027.0</td>\n",
       "      <td>1.0</td>\n",
       "    </tr>\n",
       "    <tr>\n",
       "      <th>118199</th>\n",
       "      <td>1999-12-05</td>\n",
       "      <td>1420</td>\n",
       "      <td>01420</td>\n",
       "      <td>0.0</td>\n",
       "      <td>0.0</td>\n",
       "      <td>0.0</td>\n",
       "      <td>156.0</td>\n",
       "      <td>-11.0</td>\n",
       "      <td>94.0</td>\n",
       "      <td>1420</td>\n",
       "      <td>Worcester County</td>\n",
       "      <td>MA</td>\n",
       "      <td>25027</td>\n",
       "      <td>25027.0</td>\n",
       "      <td>1.0</td>\n",
       "    </tr>\n",
       "    <tr>\n",
       "      <th>118200</th>\n",
       "      <td>1999-12-06</td>\n",
       "      <td>1420</td>\n",
       "      <td>01420</td>\n",
       "      <td>107.0</td>\n",
       "      <td>0.0</td>\n",
       "      <td>0.0</td>\n",
       "      <td>128.0</td>\n",
       "      <td>67.0</td>\n",
       "      <td>94.0</td>\n",
       "      <td>1420</td>\n",
       "      <td>Worcester County</td>\n",
       "      <td>MA</td>\n",
       "      <td>25027</td>\n",
       "      <td>25027.0</td>\n",
       "      <td>1.0</td>\n",
       "    </tr>\n",
       "    <tr>\n",
       "      <th>118201</th>\n",
       "      <td>1999-12-07</td>\n",
       "      <td>1420</td>\n",
       "      <td>01420</td>\n",
       "      <td>122.0</td>\n",
       "      <td>0.0</td>\n",
       "      <td>0.0</td>\n",
       "      <td>111.0</td>\n",
       "      <td>28.0</td>\n",
       "      <td>94.0</td>\n",
       "      <td>1420</td>\n",
       "      <td>Worcester County</td>\n",
       "      <td>MA</td>\n",
       "      <td>25027</td>\n",
       "      <td>25027.0</td>\n",
       "      <td>1.0</td>\n",
       "    </tr>\n",
       "  </tbody>\n",
       "</table>\n",
       "</div>"
      ],
      "text/plain": [
       "              date  zipcode    zip   PRCP  SNOW  SNWD   TMAX  TMIN  TOBS  \\\n",
       "118197  1999-12-03     1420  01420    0.0   0.0   0.0  100.0  11.0  94.0   \n",
       "118198  1999-12-04     1420  01420   10.0   0.0   0.0  111.0  28.0  94.0   \n",
       "118199  1999-12-05     1420  01420    0.0   0.0   0.0  156.0 -11.0  94.0   \n",
       "118200  1999-12-06     1420  01420  107.0   0.0   0.0  128.0  67.0  94.0   \n",
       "118201  1999-12-07     1420  01420  122.0   0.0   0.0  111.0  28.0  94.0   \n",
       "\n",
       "         ZIP        COUNTYNAME STATE  FIPS code  fipscode  fire  \n",
       "118197  1420  Worcester County    MA      25027   25027.0   1.0  \n",
       "118198  1420  Worcester County    MA      25027   25027.0   1.0  \n",
       "118199  1420  Worcester County    MA      25027   25027.0   1.0  \n",
       "118200  1420  Worcester County    MA      25027   25027.0   1.0  \n",
       "118201  1420  Worcester County    MA      25027   25027.0   1.0  "
      ]
     },
     "execution_count": 50,
     "metadata": {},
     "output_type": "execute_result"
    }
   ],
   "source": [
    "complete_df[~complete_df['fipscode'].isnull()][:5]"
   ]
  },
  {
   "cell_type": "code",
   "execution_count": 52,
   "metadata": {},
   "outputs": [],
   "source": [
    "#fill in all no-matching label with zero\n",
    "complete_df['fire'] = complete_df['fire'].fillna(0)"
   ]
  },
  {
   "cell_type": "code",
   "execution_count": 54,
   "metadata": {},
   "outputs": [
    {
     "data": {
      "text/plain": [
       "0.002887641242127583"
      ]
     },
     "execution_count": 54,
     "metadata": {},
     "output_type": "execute_result"
    }
   ],
   "source": [
    "# the percentage of positive data is around 0.3%. The data is super unbalanced\n",
    "\n",
    "len(complete_df[complete_df['fire'] == 1])/len(complete_df)"
   ]
  },
  {
   "cell_type": "code",
   "execution_count": 55,
   "metadata": {},
   "outputs": [
    {
     "data": {
      "text/plain": [
       "Index(['date', 'zipcode', 'zip', 'PRCP', 'SNOW', 'SNWD', 'TMAX', 'TMIN',\n",
       "       'TOBS', 'ZIP', 'COUNTYNAME', 'STATE', 'FIPS code', 'fipscode', 'fire'],\n",
       "      dtype='object')"
      ]
     },
     "execution_count": 55,
     "metadata": {},
     "output_type": "execute_result"
    }
   ],
   "source": [
    "complete_df.columns"
   ]
  },
  {
   "cell_type": "code",
   "execution_count": 56,
   "metadata": {},
   "outputs": [],
   "source": [
    "#save clean data ready for model training\n",
    "keep_cols = ['date', 'zip', 'FIPS code', 'PRCP', 'SNOW', 'SNWD', 'TMAX', 'TMIN', 'TOBS', 'fire']\n",
    "complete_df[keep_cols].to_csv(\"cleaned_data/model_data_all.csv\", index=False)\n"
   ]
  },
  {
   "cell_type": "markdown",
   "metadata": {},
   "source": [
    "## Train model"
   ]
  },
  {
   "cell_type": "markdown",
   "metadata": {},
   "source": [
    "#### 1) train test split"
   ]
  },
  {
   "cell_type": "code",
   "execution_count": 57,
   "metadata": {},
   "outputs": [],
   "source": [
    "# load ready-for-model data\n",
    "df = pd.read_csv(\"cleaned_data/model_data_all.csv\")"
   ]
  },
  {
   "cell_type": "code",
   "execution_count": 59,
   "metadata": {},
   "outputs": [
    {
     "data": {
      "text/html": [
       "<div>\n",
       "<style scoped>\n",
       "    .dataframe tbody tr th:only-of-type {\n",
       "        vertical-align: middle;\n",
       "    }\n",
       "\n",
       "    .dataframe tbody tr th {\n",
       "        vertical-align: top;\n",
       "    }\n",
       "\n",
       "    .dataframe thead th {\n",
       "        text-align: right;\n",
       "    }\n",
       "</style>\n",
       "<table border=\"1\" class=\"dataframe\">\n",
       "  <thead>\n",
       "    <tr style=\"text-align: right;\">\n",
       "      <th></th>\n",
       "      <th>date</th>\n",
       "      <th>zip</th>\n",
       "      <th>FIPS code</th>\n",
       "      <th>PRCP</th>\n",
       "      <th>SNOW</th>\n",
       "      <th>SNWD</th>\n",
       "      <th>TMAX</th>\n",
       "      <th>TMIN</th>\n",
       "      <th>TOBS</th>\n",
       "      <th>fire</th>\n",
       "    </tr>\n",
       "  </thead>\n",
       "  <tbody>\n",
       "    <tr>\n",
       "      <th>0</th>\n",
       "      <td>1950-01-01</td>\n",
       "      <td>601</td>\n",
       "      <td>72001</td>\n",
       "      <td>18.0</td>\n",
       "      <td>0.0</td>\n",
       "      <td>0.0</td>\n",
       "      <td>183.0</td>\n",
       "      <td>128.0</td>\n",
       "      <td>156.0</td>\n",
       "      <td>0.0</td>\n",
       "    </tr>\n",
       "    <tr>\n",
       "      <th>1</th>\n",
       "      <td>1950-01-01</td>\n",
       "      <td>601</td>\n",
       "      <td>72113</td>\n",
       "      <td>18.0</td>\n",
       "      <td>0.0</td>\n",
       "      <td>0.0</td>\n",
       "      <td>183.0</td>\n",
       "      <td>128.0</td>\n",
       "      <td>156.0</td>\n",
       "      <td>0.0</td>\n",
       "    </tr>\n",
       "    <tr>\n",
       "      <th>2</th>\n",
       "      <td>1950-01-02</td>\n",
       "      <td>601</td>\n",
       "      <td>72001</td>\n",
       "      <td>18.0</td>\n",
       "      <td>0.0</td>\n",
       "      <td>0.0</td>\n",
       "      <td>194.0</td>\n",
       "      <td>122.0</td>\n",
       "      <td>167.0</td>\n",
       "      <td>0.0</td>\n",
       "    </tr>\n",
       "  </tbody>\n",
       "</table>\n",
       "</div>"
      ],
      "text/plain": [
       "         date  zip  FIPS code  PRCP  SNOW  SNWD   TMAX   TMIN   TOBS  fire\n",
       "0  1950-01-01  601      72001  18.0   0.0   0.0  183.0  128.0  156.0   0.0\n",
       "1  1950-01-01  601      72113  18.0   0.0   0.0  183.0  128.0  156.0   0.0\n",
       "2  1950-01-02  601      72001  18.0   0.0   0.0  194.0  122.0  167.0   0.0"
      ]
     },
     "execution_count": 59,
     "metadata": {},
     "output_type": "execute_result"
    }
   ],
   "source": [
    "df.head(3)"
   ]
  },
  {
   "cell_type": "code",
   "execution_count": 60,
   "metadata": {},
   "outputs": [
    {
     "data": {
      "text/plain": [
       "16385692"
      ]
     },
     "execution_count": 60,
     "metadata": {},
     "output_type": "execute_result"
    }
   ],
   "source": [
    "len(df)"
   ]
  },
  {
   "cell_type": "code",
   "execution_count": 61,
   "metadata": {},
   "outputs": [],
   "source": [
    "X = df[['PRCP', 'SNOW', 'SNWD', 'TMAX', 'TMIN', 'TOBS']]\n",
    "y = df['fire']\n",
    "X_train, X_test, y_train, y_test = train_test_split(X, y, test_size=0.1, random_state=42)"
   ]
  },
  {
   "cell_type": "markdown",
   "metadata": {},
   "source": [
    "#### 2) scale and downsample"
   ]
  },
  {
   "cell_type": "code",
   "execution_count": 62,
   "metadata": {},
   "outputs": [],
   "source": [
    "# scale training data\n",
    "scaler = preprocessing.StandardScaler().fit(X_train)\n",
    "scaled_X_train = scaler.transform(X_train)"
   ]
  },
  {
   "cell_type": "code",
   "execution_count": 63,
   "metadata": {},
   "outputs": [],
   "source": [
    "#downsample the zero labels by 99%\n",
    "mask = y_train.apply(lambda c: c>0 or random.random() > 0.99)\n",
    "X_train_bal = scaled_X_train[mask]\n",
    "y_train_bal = y_train[mask]"
   ]
  },
  {
   "cell_type": "code",
   "execution_count": 64,
   "metadata": {},
   "outputs": [
    {
     "data": {
      "text/plain": [
       "(14747122, 189151, 42655, 42655, 14704467, 146496)"
      ]
     },
     "execution_count": 64,
     "metadata": {},
     "output_type": "execute_result"
    }
   ],
   "source": [
    "len(X_train), len(X_train_bal), len(y_train[y_train == 1]), len(y_train_bal[y_train_bal ==1]), len(y_train[y_train == 0]), len(y_train_bal[y_train_bal ==0])"
   ]
  },
  {
   "cell_type": "code",
   "execution_count": 65,
   "metadata": {},
   "outputs": [
    {
     "data": {
      "text/plain": [
       "0.2911683595456531"
      ]
     },
     "execution_count": 65,
     "metadata": {},
     "output_type": "execute_result"
    }
   ],
   "source": [
    "#the ratio of positive vs. negative after downsample\n",
    "len(y_train_bal[y_train_bal ==1])/len(y_train_bal[y_train_bal ==0])"
   ]
  },
  {
   "cell_type": "code",
   "execution_count": 76,
   "metadata": {},
   "outputs": [],
   "source": [
    "# scale test data \n",
    "scaled_X_test = scaler.transform(X_test)"
   ]
  },
  {
   "cell_type": "markdown",
   "metadata": {},
   "source": [
    "#### 3) MLP classifier"
   ]
  },
  {
   "cell_type": "code",
   "execution_count": 75,
   "metadata": {},
   "outputs": [
    {
     "name": "stderr",
     "output_type": "stream",
     "text": [
      "/Users/elainewu/anaconda3/lib/python3.7/site-packages/sklearn/neural_network/_multilayer_perceptron.py:470: ConvergenceWarning: lbfgs failed to converge (status=1):\n",
      "STOP: TOTAL NO. of ITERATIONS REACHED LIMIT.\n",
      "\n",
      "Increase the number of iterations (max_iter) or scale the data as shown in:\n",
      "    https://scikit-learn.org/stable/modules/preprocessing.html\n",
      "  self.n_iter_ = _check_optimize_result(\"lbfgs\", opt_res, self.max_iter)\n"
     ]
    },
    {
     "data": {
      "text/plain": [
       "MLPClassifier(activation='relu', alpha=1e-05, batch_size='auto', beta_1=0.9,\n",
       "              beta_2=0.999, early_stopping=False, epsilon=1e-08,\n",
       "              hidden_layer_sizes=(5, 2), learning_rate='constant',\n",
       "              learning_rate_init=0.001, max_fun=15000, max_iter=200,\n",
       "              momentum=0.9, n_iter_no_change=10, nesterovs_momentum=True,\n",
       "              power_t=0.5, random_state=1, shuffle=True, solver='lbfgs',\n",
       "              tol=0.0001, validation_fraction=0.1, verbose=False,\n",
       "              warm_start=False)"
      ]
     },
     "execution_count": 75,
     "metadata": {},
     "output_type": "execute_result"
    }
   ],
   "source": [
    "clf_bal = MLPClassifier(solver='lbfgs', alpha=1e-5, hidden_layer_sizes=(5, 2), random_state=1)\n",
    "\n",
    "clf_bal.fit(X_train_bal, y_train_bal)\n"
   ]
  },
  {
   "cell_type": "code",
   "execution_count": 67,
   "metadata": {},
   "outputs": [
    {
     "data": {
      "text/plain": [
       "0.9735952690455703"
      ]
     },
     "execution_count": 67,
     "metadata": {},
     "output_type": "execute_result"
    }
   ],
   "source": [
    "# accuracy\n",
    "clf_bal.score(scaled_X_test, y_test)"
   ]
  },
  {
   "cell_type": "code",
   "execution_count": 79,
   "metadata": {},
   "outputs": [
    {
     "data": {
      "text/plain": [
       "array([0., 1.])"
      ]
     },
     "execution_count": 79,
     "metadata": {},
     "output_type": "execute_result"
    }
   ],
   "source": [
    "clf_bal.classes_"
   ]
  },
  {
   "cell_type": "code",
   "execution_count": 85,
   "metadata": {},
   "outputs": [
    {
     "data": {
      "text/plain": [
       "0.7337490009777365"
      ]
     },
     "execution_count": 85,
     "metadata": {},
     "output_type": "execute_result"
    }
   ],
   "source": [
    "# auc score\n",
    "prob_pred = clf_bal.predict_proba(scaled_X_test)[:, 1] # only get the predicted probability for class 1\n",
    "auc_score = roc_auc_score(y_test, prob_pred)\n",
    "auc_score"
   ]
  },
  {
   "cell_type": "code",
   "execution_count": 68,
   "metadata": {},
   "outputs": [
    {
     "data": {
      "text/plain": [
       "array([[1594599,   39310],\n",
       "       [   3956,     705]])"
      ]
     },
     "execution_count": 68,
     "metadata": {},
     "output_type": "execute_result"
    }
   ],
   "source": [
    "y_pred = clf_bal.predict(scaled_X_test)\n",
    "confusion_matrix(y_test, y_pred)\n",
    "\n",
    "# tn, fp\n",
    "# fn, tp"
   ]
  },
  {
   "cell_type": "code",
   "execution_count": 101,
   "metadata": {},
   "outputs": [],
   "source": [
    "#plot roc curve\n",
    "# metrics.plot_roc_curve(clf_bal, scaled_X_test, y_test)\n",
    "# plt.title(\"Fire prediction - ROC curve for MLP Classifier\")\n",
    "# plt.show() "
   ]
  },
  {
   "cell_type": "code",
   "execution_count": 86,
   "metadata": {
    "scrolled": true
   },
   "outputs": [
    {
     "name": "stderr",
     "output_type": "stream",
     "text": [
      "/Users/elainewu/anaconda3/lib/python3.7/site-packages/sklearn/neural_network/_multilayer_perceptron.py:470: ConvergenceWarning: lbfgs failed to converge (status=1):\n",
      "STOP: TOTAL NO. of ITERATIONS REACHED LIMIT.\n",
      "\n",
      "Increase the number of iterations (max_iter) or scale the data as shown in:\n",
      "    https://scikit-learn.org/stable/modules/preprocessing.html\n",
      "  self.n_iter_ = _check_optimize_result(\"lbfgs\", opt_res, self.max_iter)\n",
      "/Users/elainewu/anaconda3/lib/python3.7/site-packages/sklearn/neural_network/_multilayer_perceptron.py:470: ConvergenceWarning: lbfgs failed to converge (status=1):\n",
      "STOP: TOTAL NO. of ITERATIONS REACHED LIMIT.\n",
      "\n",
      "Increase the number of iterations (max_iter) or scale the data as shown in:\n",
      "    https://scikit-learn.org/stable/modules/preprocessing.html\n",
      "  self.n_iter_ = _check_optimize_result(\"lbfgs\", opt_res, self.max_iter)\n",
      "/Users/elainewu/anaconda3/lib/python3.7/site-packages/sklearn/neural_network/_multilayer_perceptron.py:470: ConvergenceWarning: lbfgs failed to converge (status=1):\n",
      "STOP: TOTAL NO. of ITERATIONS REACHED LIMIT.\n",
      "\n",
      "Increase the number of iterations (max_iter) or scale the data as shown in:\n",
      "    https://scikit-learn.org/stable/modules/preprocessing.html\n",
      "  self.n_iter_ = _check_optimize_result(\"lbfgs\", opt_res, self.max_iter)\n",
      "/Users/elainewu/anaconda3/lib/python3.7/site-packages/sklearn/neural_network/_multilayer_perceptron.py:470: ConvergenceWarning: lbfgs failed to converge (status=1):\n",
      "STOP: TOTAL NO. of ITERATIONS REACHED LIMIT.\n",
      "\n",
      "Increase the number of iterations (max_iter) or scale the data as shown in:\n",
      "    https://scikit-learn.org/stable/modules/preprocessing.html\n",
      "  self.n_iter_ = _check_optimize_result(\"lbfgs\", opt_res, self.max_iter)\n",
      "/Users/elainewu/anaconda3/lib/python3.7/site-packages/sklearn/neural_network/_multilayer_perceptron.py:470: ConvergenceWarning: lbfgs failed to converge (status=1):\n",
      "STOP: TOTAL NO. of ITERATIONS REACHED LIMIT.\n",
      "\n",
      "Increase the number of iterations (max_iter) or scale the data as shown in:\n",
      "    https://scikit-learn.org/stable/modules/preprocessing.html\n",
      "  self.n_iter_ = _check_optimize_result(\"lbfgs\", opt_res, self.max_iter)\n",
      "/Users/elainewu/anaconda3/lib/python3.7/site-packages/sklearn/neural_network/_multilayer_perceptron.py:470: ConvergenceWarning: lbfgs failed to converge (status=1):\n",
      "STOP: TOTAL NO. of ITERATIONS REACHED LIMIT.\n",
      "\n",
      "Increase the number of iterations (max_iter) or scale the data as shown in:\n",
      "    https://scikit-learn.org/stable/modules/preprocessing.html\n",
      "  self.n_iter_ = _check_optimize_result(\"lbfgs\", opt_res, self.max_iter)\n",
      "/Users/elainewu/anaconda3/lib/python3.7/site-packages/sklearn/neural_network/_multilayer_perceptron.py:470: ConvergenceWarning: lbfgs failed to converge (status=1):\n",
      "STOP: TOTAL NO. of ITERATIONS REACHED LIMIT.\n",
      "\n",
      "Increase the number of iterations (max_iter) or scale the data as shown in:\n",
      "    https://scikit-learn.org/stable/modules/preprocessing.html\n",
      "  self.n_iter_ = _check_optimize_result(\"lbfgs\", opt_res, self.max_iter)\n",
      "/Users/elainewu/anaconda3/lib/python3.7/site-packages/sklearn/neural_network/_multilayer_perceptron.py:470: ConvergenceWarning: lbfgs failed to converge (status=1):\n",
      "STOP: TOTAL NO. of ITERATIONS REACHED LIMIT.\n",
      "\n",
      "Increase the number of iterations (max_iter) or scale the data as shown in:\n",
      "    https://scikit-learn.org/stable/modules/preprocessing.html\n",
      "  self.n_iter_ = _check_optimize_result(\"lbfgs\", opt_res, self.max_iter)\n",
      "/Users/elainewu/anaconda3/lib/python3.7/site-packages/sklearn/neural_network/_multilayer_perceptron.py:470: ConvergenceWarning: lbfgs failed to converge (status=1):\n",
      "STOP: TOTAL NO. of ITERATIONS REACHED LIMIT.\n",
      "\n",
      "Increase the number of iterations (max_iter) or scale the data as shown in:\n",
      "    https://scikit-learn.org/stable/modules/preprocessing.html\n",
      "  self.n_iter_ = _check_optimize_result(\"lbfgs\", opt_res, self.max_iter)\n"
     ]
    }
   ],
   "source": [
    "# fine tune model\n",
    "parameters = []\n",
    "auc_scores = []\n",
    "hidden_layer_sizes = [(5,2), (5,5), (10,5)] #size of each hidden layer\n",
    "solvers = ['adam','sgd', 'lbfgs']\n",
    "alphas = [0.001, 0.0001, 0.00001] #regularization term\n",
    "\n",
    "for hidden_layer_size in hidden_layer_sizes:\n",
    "    for solver in solvers:\n",
    "        for alpha in alphas:\n",
    "            mlp = MLPClassifier(alpha=alpha, hidden_layer_sizes=hidden_layer_size, random_state=1, solver=solver)\n",
    "            mlp.fit(X_train_bal, y_train_bal)\n",
    "            prob_pred = mlp.predict_proba(scaled_X_test)[:, 1]\n",
    "            auc_score = roc_auc_score(y_test, prob_pred)\n",
    "            parameters.append({\"hidden_layer_size\":hidden_layer_size, \"solver\":solver, \"alpha\":alpha})\n",
    "            auc_scores.append(auc_score)\n",
    "            "
   ]
  },
  {
   "cell_type": "code",
   "execution_count": 95,
   "metadata": {},
   "outputs": [
    {
     "data": {
      "text/plain": [
       "(0.7594437575487328,\n",
       " {'hidden_layer_size': (10, 5), 'solver': 'adam', 'alpha': 1e-05})"
      ]
     },
     "execution_count": 95,
     "metadata": {},
     "output_type": "execute_result"
    }
   ],
   "source": [
    "#get the parameters for best data\n",
    "max_idx = np.argmax(auc_scores)\n",
    "auc_scores[max_idx], parameters[max_idx]"
   ]
  },
  {
   "cell_type": "code",
   "execution_count": 98,
   "metadata": {},
   "outputs": [
    {
     "data": {
      "text/plain": [
       "MLPClassifier(activation='relu', alpha=1e-05, batch_size='auto', beta_1=0.9,\n",
       "              beta_2=0.999, early_stopping=False, epsilon=1e-08,\n",
       "              hidden_layer_sizes=(10, 5), learning_rate='constant',\n",
       "              learning_rate_init=0.001, max_fun=15000, max_iter=200,\n",
       "              momentum=0.9, n_iter_no_change=10, nesterovs_momentum=True,\n",
       "              power_t=0.5, random_state=1, shuffle=True, solver='adam',\n",
       "              tol=0.0001, validation_fraction=0.1, verbose=False,\n",
       "              warm_start=False)"
      ]
     },
     "execution_count": 98,
     "metadata": {},
     "output_type": "execute_result"
    }
   ],
   "source": [
    "#train model with best parameters\n",
    "best_mlp = MLPClassifier(alpha=1e-05, hidden_layer_sizes=(10, 5), random_state=1, solver='adam')\n",
    "best_mlp.fit(X_train_bal, y_train_bal)"
   ]
  },
  {
   "cell_type": "code",
   "execution_count": 102,
   "metadata": {},
   "outputs": [
    {
     "data": {
      "image/png": "[encoded data removed]",
      "text/plain": [
       "<Figure size 432x288 with 1 Axes>"
      ]
     },
     "metadata": {
      "needs_background": "light"
     },
     "output_type": "display_data"
    }
   ],
   "source": [
    "#roc for best mlp classifier for testing data\n",
    "metrics.plot_roc_curve(best_mlp, scaled_X_test, y_test)\n",
    "plt.title(\"Fire prediction - ROC curve for MLP Classifier\")\n",
    "plt.show() "
   ]
  },
  {
   "cell_type": "code",
   "execution_count": 130,
   "metadata": {},
   "outputs": [
    {
     "data": {
      "image/png": "[encoded data removed]",
      "text/plain": [
       "<Figure size 432x288 with 1 Axes>"
      ]
     },
     "metadata": {
      "needs_background": "light"
     },
     "output_type": "display_data"
    }
   ],
   "source": [
    "#roc for best mlp classifier for training data\n",
    "metrics.plot_roc_curve(best_mlp, scaled_X_train, y_train)\n",
    "plt.title(\"Fire prediction - ROC curve for MLP Classifier with training data\")\n",
    "plt.show() "
   ]
  },
  {
   "cell_type": "markdown",
   "metadata": {},
   "source": [
    "#### 4) random forest classifier"
   ]
  },
  {
   "cell_type": "code",
   "execution_count": 72,
   "metadata": {},
   "outputs": [
    {
     "data": {
      "text/plain": [
       "RandomForestClassifier(bootstrap=True, ccp_alpha=0.0, class_weight=None,\n",
       "                       criterion='gini', max_depth=10, max_features='auto',\n",
       "                       max_leaf_nodes=None, max_samples=None,\n",
       "                       min_impurity_decrease=0.0, min_impurity_split=None,\n",
       "                       min_samples_leaf=1, min_samples_split=2,\n",
       "                       min_weight_fraction_leaf=0.0, n_estimators=100,\n",
       "                       n_jobs=None, oob_score=False, random_state=0, verbose=0,\n",
       "                       warm_start=False)"
      ]
     },
     "execution_count": 72,
     "metadata": {},
     "output_type": "execute_result"
    }
   ],
   "source": [
    "rf = RandomForestClassifier(max_depth=10, random_state=0)\n",
    "rf.fit(X_train_bal, y_train_bal)"
   ]
  },
  {
   "cell_type": "code",
   "execution_count": 104,
   "metadata": {},
   "outputs": [
    {
     "data": {
      "text/plain": [
       "0.797966470622066"
      ]
     },
     "execution_count": 104,
     "metadata": {},
     "output_type": "execute_result"
    }
   ],
   "source": [
    "# auc score\n",
    "prob_pred = rf.predict_proba(scaled_X_test)[:, 1] # only get the predicted probability for class 1\n",
    "auc_score = roc_auc_score(y_test, prob_pred)\n",
    "auc_score"
   ]
  },
  {
   "cell_type": "code",
   "execution_count": 112,
   "metadata": {
    "scrolled": true
   },
   "outputs": [],
   "source": [
    "# fine tune model\n",
    "rf_parameters = []\n",
    "rf_auc_scores = []\n",
    "n_estimators = [10, 50, 100]\n",
    "criterions = ['gini','entropy']\n",
    "max_depths = [10, 50, 100]\n",
    "for criterion in criterions:\n",
    "    for n_estimator in n_estimators:\n",
    "        for max_depth in max_depths:\n",
    "            rfm = RandomForestClassifier(max_depth=max_depth,n_estimators =n_estimator,criterion=criterion, random_state=1)\n",
    "            rfm.fit(X_train_bal, y_train_bal)\n",
    "            prob_pred = rfm.predict_proba(scaled_X_test)[:, 1]\n",
    "            auc_score = roc_auc_score(y_test, prob_pred)\n",
    "            rf_parameters.append({\"n_estimator\":n_estimator, \"criterion\":criterion, \"max_depth\":max_depth})\n",
    "            rf_auc_scores.append(auc_score)"
   ]
  },
  {
   "cell_type": "code",
   "execution_count": 113,
   "metadata": {},
   "outputs": [
    {
     "data": {
      "text/plain": [
       "(0.8416267396854684,\n",
       " {'n_estimator': 100, 'criterion': 'entropy', 'max_depth': 50})"
      ]
     },
     "execution_count": 113,
     "metadata": {},
     "output_type": "execute_result"
    }
   ],
   "source": [
    "#get best parameters for random forest classifier\n",
    "max_idx = np.argmax(rf_auc_scores)\n",
    "rf_auc_scores[max_idx], rf_parameters[max_idx]"
   ]
  },
  {
   "cell_type": "code",
   "execution_count": 114,
   "metadata": {},
   "outputs": [
    {
     "data": {
      "text/plain": [
       "RandomForestClassifier(bootstrap=True, ccp_alpha=0.0, class_weight=None,\n",
       "                       criterion='entropy', max_depth=50, max_features='auto',\n",
       "                       max_leaf_nodes=None, max_samples=None,\n",
       "                       min_impurity_decrease=0.0, min_impurity_split=None,\n",
       "                       min_samples_leaf=1, min_samples_split=2,\n",
       "                       min_weight_fraction_leaf=0.0, n_estimators=100,\n",
       "                       n_jobs=None, oob_score=False, random_state=None,\n",
       "                       verbose=0, warm_start=False)"
      ]
     },
     "execution_count": 114,
     "metadata": {},
     "output_type": "execute_result"
    }
   ],
   "source": [
    "#train model with best parameters\n",
    "best_rf = RandomForestClassifier(n_estimators=100, criterion='entropy', max_depth=50 )\n",
    "best_rf.fit(X_train_bal, y_train_bal)"
   ]
  },
  {
   "cell_type": "code",
   "execution_count": 132,
   "metadata": {},
   "outputs": [
    {
     "data": {
      "text/plain": [
       "0.9057342682949157"
      ]
     },
     "execution_count": 132,
     "metadata": {},
     "output_type": "execute_result"
    }
   ],
   "source": [
    "best_rf.score(scaled_X_test, y_test)"
   ]
  },
  {
   "cell_type": "code",
   "execution_count": 133,
   "metadata": {},
   "outputs": [
    {
     "data": {
      "text/plain": [
       "0.9066968456624961"
      ]
     },
     "execution_count": 133,
     "metadata": {},
     "output_type": "execute_result"
    }
   ],
   "source": [
    "best_rf.score(scaled_X_train, y_train)"
   ]
  },
  {
   "cell_type": "code",
   "execution_count": 115,
   "metadata": {},
   "outputs": [
    {
     "data": {
      "image/png": "[encoded data removed]",
      "text/plain": [
       "<Figure size 432x288 with 1 Axes>"
      ]
     },
     "metadata": {
      "needs_background": "light"
     },
     "output_type": "display_data"
    }
   ],
   "source": [
    "#plot roc curve\n",
    "metrics.plot_roc_curve(best_rf, scaled_X_test, y_test)\n",
    "plt.title(\"Fire prediction - ROC curve for random forest Classifier\")\n",
    "plt.show()"
   ]
  },
  {
   "cell_type": "code",
   "execution_count": 131,
   "metadata": {},
   "outputs": [
    {
     "data": {
      "image/png": "[encoded data removed]",
      "text/plain": [
       "<Figure size 432x288 with 1 Axes>"
      ]
     },
     "metadata": {
      "needs_background": "light"
     },
     "output_type": "display_data"
    }
   ],
   "source": [
    "#plot roc curve\n",
    "metrics.plot_roc_curve(best_rf, scaled_X_train, y_train)\n",
    "plt.title(\"Fire prediction - ROC curve for random forest Classifier with training data\")\n",
    "plt.show()"
   ]
  },
  {
   "cell_type": "markdown",
   "metadata": {},
   "source": [
    "- Based on the auc scores, random forest model (0.84) is better than MLPClassifier (0.76). We will use the fine tuned random forest model to predict the probability of fire event with forecast NOAA weather data."
   ]
  },
  {
   "cell_type": "code",
   "execution_count": 134,
   "metadata": {},
   "outputs": [
    {
     "data": {
      "text/plain": [
       "array([0.08900428, 0.0059088 , 0.02556477, 0.30069328, 0.278647  ,\n",
       "       0.30018187])"
      ]
     },
     "execution_count": 134,
     "metadata": {},
     "output_type": "execute_result"
    }
   ],
   "source": [
    "best_rf.feature_importances_"
   ]
  },
  {
   "cell_type": "markdown",
   "metadata": {},
   "source": [
    "## Predict future fire"
   ]
  },
  {
   "cell_type": "markdown",
   "metadata": {},
   "source": [
    "#### 1) load predicted weather data"
   ]
  },
  {
   "cell_type": "code",
   "execution_count": 122,
   "metadata": {},
   "outputs": [],
   "source": [
    "pred_weather_df = pd.read_csv(\"cleaned_data/NOAA_weather_forecast_predictions.csv\")"
   ]
  },
  {
   "cell_type": "code",
   "execution_count": 123,
   "metadata": {},
   "outputs": [
    {
     "data": {
      "text/html": [
       "<div>\n",
       "<style scoped>\n",
       "    .dataframe tbody tr th:only-of-type {\n",
       "        vertical-align: middle;\n",
       "    }\n",
       "\n",
       "    .dataframe tbody tr th {\n",
       "        vertical-align: top;\n",
       "    }\n",
       "\n",
       "    .dataframe thead th {\n",
       "        text-align: right;\n",
       "    }\n",
       "</style>\n",
       "<table border=\"1\" class=\"dataframe\">\n",
       "  <thead>\n",
       "    <tr style=\"text-align: right;\">\n",
       "      <th></th>\n",
       "      <th>zipcode</th>\n",
       "      <th>year</th>\n",
       "      <th>PRCP</th>\n",
       "      <th>SNOW</th>\n",
       "      <th>SNWD</th>\n",
       "      <th>TMAX</th>\n",
       "      <th>TMIN</th>\n",
       "      <th>TOBS</th>\n",
       "    </tr>\n",
       "  </thead>\n",
       "  <tbody>\n",
       "    <tr>\n",
       "      <th>0</th>\n",
       "      <td>16601</td>\n",
       "      <td>2030</td>\n",
       "      <td>36.704178</td>\n",
       "      <td>6.832971</td>\n",
       "      <td>5.034125</td>\n",
       "      <td>155.709286</td>\n",
       "      <td>57.087498</td>\n",
       "      <td>79.935546</td>\n",
       "    </tr>\n",
       "    <tr>\n",
       "      <th>1</th>\n",
       "      <td>16601</td>\n",
       "      <td>2040</td>\n",
       "      <td>38.987804</td>\n",
       "      <td>8.066879</td>\n",
       "      <td>-0.581523</td>\n",
       "      <td>157.545249</td>\n",
       "      <td>60.140693</td>\n",
       "      <td>78.845724</td>\n",
       "    </tr>\n",
       "    <tr>\n",
       "      <th>2</th>\n",
       "      <td>16601</td>\n",
       "      <td>2050</td>\n",
       "      <td>41.276487</td>\n",
       "      <td>9.303487</td>\n",
       "      <td>-6.195984</td>\n",
       "      <td>159.381684</td>\n",
       "      <td>63.195606</td>\n",
       "      <td>77.752849</td>\n",
       "    </tr>\n",
       "    <tr>\n",
       "      <th>3</th>\n",
       "      <td>16601</td>\n",
       "      <td>2060</td>\n",
       "      <td>43.571408</td>\n",
       "      <td>10.541236</td>\n",
       "      <td>-11.812570</td>\n",
       "      <td>161.216156</td>\n",
       "      <td>66.252145</td>\n",
       "      <td>76.652903</td>\n",
       "    </tr>\n",
       "    <tr>\n",
       "      <th>4</th>\n",
       "      <td>16601</td>\n",
       "      <td>2070</td>\n",
       "      <td>45.849895</td>\n",
       "      <td>11.775522</td>\n",
       "      <td>-17.431140</td>\n",
       "      <td>163.057915</td>\n",
       "      <td>69.306966</td>\n",
       "      <td>75.563086</td>\n",
       "    </tr>\n",
       "  </tbody>\n",
       "</table>\n",
       "</div>"
      ],
      "text/plain": [
       "   zipcode  year       PRCP       SNOW       SNWD        TMAX       TMIN  \\\n",
       "0    16601  2030  36.704178   6.832971   5.034125  155.709286  57.087498   \n",
       "1    16601  2040  38.987804   8.066879  -0.581523  157.545249  60.140693   \n",
       "2    16601  2050  41.276487   9.303487  -6.195984  159.381684  63.195606   \n",
       "3    16601  2060  43.571408  10.541236 -11.812570  161.216156  66.252145   \n",
       "4    16601  2070  45.849895  11.775522 -17.431140  163.057915  69.306966   \n",
       "\n",
       "        TOBS  \n",
       "0  79.935546  \n",
       "1  78.845724  \n",
       "2  77.752849  \n",
       "3  76.652903  \n",
       "4  75.563086  "
      ]
     },
     "execution_count": 123,
     "metadata": {},
     "output_type": "execute_result"
    }
   ],
   "source": [
    "pred_weather_df.head()"
   ]
  },
  {
   "cell_type": "markdown",
   "metadata": {},
   "source": [
    "#### 2) scale predicted weather data"
   ]
  },
  {
   "cell_type": "code",
   "execution_count": 118,
   "metadata": {},
   "outputs": [],
   "source": [
    "weather_forecast = pred_weather_df[['PRCP', 'SNOW', 'SNWD', 'TMAX', 'TMIN', 'TOBS']]\n",
    "scaled_weather_forecast = scaler.transform(weather_forecast)"
   ]
  },
  {
   "cell_type": "markdown",
   "metadata": {},
   "source": [
    "#### 3) predict fire"
   ]
  },
  {
   "cell_type": "code",
   "execution_count": 119,
   "metadata": {},
   "outputs": [],
   "source": [
    "fire_prob_pred = best_rf.predict_proba(scaled_weather_forecast)[:, 1]"
   ]
  },
  {
   "cell_type": "code",
   "execution_count": 124,
   "metadata": {},
   "outputs": [],
   "source": [
    "pred_weather_df['Fire'] = fire_prob_pred"
   ]
  },
  {
   "cell_type": "code",
   "execution_count": 125,
   "metadata": {},
   "outputs": [
    {
     "data": {
      "text/html": [
       "<div>\n",
       "<style scoped>\n",
       "    .dataframe tbody tr th:only-of-type {\n",
       "        vertical-align: middle;\n",
       "    }\n",
       "\n",
       "    .dataframe tbody tr th {\n",
       "        vertical-align: top;\n",
       "    }\n",
       "\n",
       "    .dataframe thead th {\n",
       "        text-align: right;\n",
       "    }\n",
       "</style>\n",
       "<table border=\"1\" class=\"dataframe\">\n",
       "  <thead>\n",
       "    <tr style=\"text-align: right;\">\n",
       "      <th></th>\n",
       "      <th>zipcode</th>\n",
       "      <th>year</th>\n",
       "      <th>PRCP</th>\n",
       "      <th>SNOW</th>\n",
       "      <th>SNWD</th>\n",
       "      <th>TMAX</th>\n",
       "      <th>TMIN</th>\n",
       "      <th>TOBS</th>\n",
       "      <th>Fire</th>\n",
       "    </tr>\n",
       "  </thead>\n",
       "  <tbody>\n",
       "    <tr>\n",
       "      <th>0</th>\n",
       "      <td>16601</td>\n",
       "      <td>2030</td>\n",
       "      <td>36.704178</td>\n",
       "      <td>6.832971</td>\n",
       "      <td>5.034125</td>\n",
       "      <td>155.709286</td>\n",
       "      <td>57.087498</td>\n",
       "      <td>79.935546</td>\n",
       "      <td>0.22</td>\n",
       "    </tr>\n",
       "    <tr>\n",
       "      <th>1</th>\n",
       "      <td>16601</td>\n",
       "      <td>2040</td>\n",
       "      <td>38.987804</td>\n",
       "      <td>8.066879</td>\n",
       "      <td>-0.581523</td>\n",
       "      <td>157.545249</td>\n",
       "      <td>60.140693</td>\n",
       "      <td>78.845724</td>\n",
       "      <td>0.00</td>\n",
       "    </tr>\n",
       "    <tr>\n",
       "      <th>2</th>\n",
       "      <td>16601</td>\n",
       "      <td>2050</td>\n",
       "      <td>41.276487</td>\n",
       "      <td>9.303487</td>\n",
       "      <td>-6.195984</td>\n",
       "      <td>159.381684</td>\n",
       "      <td>63.195606</td>\n",
       "      <td>77.752849</td>\n",
       "      <td>0.01</td>\n",
       "    </tr>\n",
       "    <tr>\n",
       "      <th>3</th>\n",
       "      <td>16601</td>\n",
       "      <td>2060</td>\n",
       "      <td>43.571408</td>\n",
       "      <td>10.541236</td>\n",
       "      <td>-11.812570</td>\n",
       "      <td>161.216156</td>\n",
       "      <td>66.252145</td>\n",
       "      <td>76.652903</td>\n",
       "      <td>0.00</td>\n",
       "    </tr>\n",
       "    <tr>\n",
       "      <th>4</th>\n",
       "      <td>16601</td>\n",
       "      <td>2070</td>\n",
       "      <td>45.849895</td>\n",
       "      <td>11.775522</td>\n",
       "      <td>-17.431140</td>\n",
       "      <td>163.057915</td>\n",
       "      <td>69.306966</td>\n",
       "      <td>75.563086</td>\n",
       "      <td>0.05</td>\n",
       "    </tr>\n",
       "  </tbody>\n",
       "</table>\n",
       "</div>"
      ],
      "text/plain": [
       "   zipcode  year       PRCP       SNOW       SNWD        TMAX       TMIN  \\\n",
       "0    16601  2030  36.704178   6.832971   5.034125  155.709286  57.087498   \n",
       "1    16601  2040  38.987804   8.066879  -0.581523  157.545249  60.140693   \n",
       "2    16601  2050  41.276487   9.303487  -6.195984  159.381684  63.195606   \n",
       "3    16601  2060  43.571408  10.541236 -11.812570  161.216156  66.252145   \n",
       "4    16601  2070  45.849895  11.775522 -17.431140  163.057915  69.306966   \n",
       "\n",
       "        TOBS  Fire  \n",
       "0  79.935546  0.22  \n",
       "1  78.845724  0.00  \n",
       "2  77.752849  0.01  \n",
       "3  76.652903  0.00  \n",
       "4  75.563086  0.05  "
      ]
     },
     "execution_count": 125,
     "metadata": {},
     "output_type": "execute_result"
    }
   ],
   "source": [
    "pred_weather_df.head()"
   ]
  },
  {
   "cell_type": "code",
   "execution_count": 126,
   "metadata": {},
   "outputs": [],
   "source": [
    "#save fire prediction to csv file\n",
    "pred_weather_df.to_csv('cleaned_data/fire_prediction_w_noaa_weather_forecast.csv', index=False)"
   ]
  },
  {
   "cell_type": "code",
   "execution_count": 127,
   "metadata": {},
   "outputs": [
    {
     "data": {
      "text/plain": [
       "3260"
      ]
     },
     "execution_count": 127,
     "metadata": {},
     "output_type": "execute_result"
    }
   ],
   "source": [
    "len(pred_weather_df)"
   ]
  },
  {
   "cell_type": "code",
   "execution_count": 128,
   "metadata": {},
   "outputs": [],
   "source": [
    "check = pd.read_csv('cleaned_data/fire_prediction_w_noaa_weather_forecast.csv')"
   ]
  },
  {
   "cell_type": "code",
   "execution_count": 129,
   "metadata": {},
   "outputs": [
    {
     "data": {
      "text/html": [
       "<div>\n",
       "<style scoped>\n",
       "    .dataframe tbody tr th:only-of-type {\n",
       "        vertical-align: middle;\n",
       "    }\n",
       "\n",
       "    .dataframe tbody tr th {\n",
       "        vertical-align: top;\n",
       "    }\n",
       "\n",
       "    .dataframe thead th {\n",
       "        text-align: right;\n",
       "    }\n",
       "</style>\n",
       "<table border=\"1\" class=\"dataframe\">\n",
       "  <thead>\n",
       "    <tr style=\"text-align: right;\">\n",
       "      <th></th>\n",
       "      <th>zipcode</th>\n",
       "      <th>year</th>\n",
       "      <th>PRCP</th>\n",
       "      <th>SNOW</th>\n",
       "      <th>SNWD</th>\n",
       "      <th>TMAX</th>\n",
       "      <th>TMIN</th>\n",
       "      <th>TOBS</th>\n",
       "      <th>Fire</th>\n",
       "    </tr>\n",
       "  </thead>\n",
       "  <tbody>\n",
       "    <tr>\n",
       "      <th>0</th>\n",
       "      <td>16601</td>\n",
       "      <td>2030</td>\n",
       "      <td>36.704178</td>\n",
       "      <td>6.832971</td>\n",
       "      <td>5.034125</td>\n",
       "      <td>155.709286</td>\n",
       "      <td>57.087498</td>\n",
       "      <td>79.935546</td>\n",
       "      <td>0.22</td>\n",
       "    </tr>\n",
       "    <tr>\n",
       "      <th>1</th>\n",
       "      <td>16601</td>\n",
       "      <td>2040</td>\n",
       "      <td>38.987804</td>\n",
       "      <td>8.066879</td>\n",
       "      <td>-0.581523</td>\n",
       "      <td>157.545249</td>\n",
       "      <td>60.140693</td>\n",
       "      <td>78.845724</td>\n",
       "      <td>0.00</td>\n",
       "    </tr>\n",
       "    <tr>\n",
       "      <th>2</th>\n",
       "      <td>16601</td>\n",
       "      <td>2050</td>\n",
       "      <td>41.276487</td>\n",
       "      <td>9.303487</td>\n",
       "      <td>-6.195984</td>\n",
       "      <td>159.381684</td>\n",
       "      <td>63.195606</td>\n",
       "      <td>77.752849</td>\n",
       "      <td>0.01</td>\n",
       "    </tr>\n",
       "    <tr>\n",
       "      <th>3</th>\n",
       "      <td>16601</td>\n",
       "      <td>2060</td>\n",
       "      <td>43.571408</td>\n",
       "      <td>10.541236</td>\n",
       "      <td>-11.812570</td>\n",
       "      <td>161.216156</td>\n",
       "      <td>66.252145</td>\n",
       "      <td>76.652903</td>\n",
       "      <td>0.00</td>\n",
       "    </tr>\n",
       "    <tr>\n",
       "      <th>4</th>\n",
       "      <td>16601</td>\n",
       "      <td>2070</td>\n",
       "      <td>45.849895</td>\n",
       "      <td>11.775522</td>\n",
       "      <td>-17.431140</td>\n",
       "      <td>163.057915</td>\n",
       "      <td>69.306966</td>\n",
       "      <td>75.563086</td>\n",
       "      <td>0.05</td>\n",
       "    </tr>\n",
       "  </tbody>\n",
       "</table>\n",
       "</div>"
      ],
      "text/plain": [
       "   zipcode  year       PRCP       SNOW       SNWD        TMAX       TMIN  \\\n",
       "0    16601  2030  36.704178   6.832971   5.034125  155.709286  57.087498   \n",
       "1    16601  2040  38.987804   8.066879  -0.581523  157.545249  60.140693   \n",
       "2    16601  2050  41.276487   9.303487  -6.195984  159.381684  63.195606   \n",
       "3    16601  2060  43.571408  10.541236 -11.812570  161.216156  66.252145   \n",
       "4    16601  2070  45.849895  11.775522 -17.431140  163.057915  69.306966   \n",
       "\n",
       "        TOBS  Fire  \n",
       "0  79.935546  0.22  \n",
       "1  78.845724  0.00  \n",
       "2  77.752849  0.01  \n",
       "3  76.652903  0.00  \n",
       "4  75.563086  0.05  "
      ]
     },
     "execution_count": 129,
     "metadata": {},
     "output_type": "execute_result"
    }
   ],
   "source": [
    "check.head()"
   ]
  }
 ],
 "metadata": {
  "kernelspec": {
   "display_name": "Python 3",
   "language": "python",
   "name": "python3"
  },
  "language_info": {
   "codemirror_mode": {
    "name": "ipython",
    "version": 3
   },
   "file_extension": ".py",
   "mimetype": "text/x-python",
   "name": "python",
   "nbconvert_exporter": "python",
   "pygments_lexer": "ipython3",
   "version": "3.7.6"
  }
 },
 "nbformat": 4,
 "nbformat_minor": 4
}
