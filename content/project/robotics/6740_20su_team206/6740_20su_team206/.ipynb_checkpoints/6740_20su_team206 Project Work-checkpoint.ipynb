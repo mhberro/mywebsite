{
 "cells": [
  {
   "cell_type": "code",
   "execution_count": 1,
   "metadata": {},
   "outputs": [],
   "source": [
    "#inputs needed\n",
    "file_2019 = \"NCAAF Teams 2019 - Nikki edits 20200722.csv\"\n",
    "file_2018 = \"NCAAF Team Leaders_2018 - Nikki edits 20200722.csv\""
   ]
  },
  {
   "cell_type": "code",
   "execution_count": 2,
   "metadata": {},
   "outputs": [],
   "source": [
    "#all packages used for code\n",
    "import os\n",
    "import pandas as pd\n",
    "import sklearn as sklearn\n",
    "from sklearn.svm import LinearSVC\n",
    "from sklearn.neural_network import MLPClassifier\n",
    "from sklearn.exceptions import ConvergenceWarning\n",
    "import warnings\n",
    "from sklearn.naive_bayes import GaussianNB\n",
    "from sklearn.linear_model import LogisticRegression\n",
    "from sklearn.neighbors import KNeighborsClassifier"
   ]
  },
  {
   "cell_type": "code",
   "execution_count": 3,
   "metadata": {},
   "outputs": [],
   "source": [
    "#retrieve file\n",
    "def get_file(input_file):\n",
    "    current_directory = os.getcwd()\n",
    "#    print(current_directory)\n",
    "#    print(input_file)\n",
    "    file_path = current_directory + \"/\" + input_file\n",
    "#    print(file_path)\n",
    "    file_df = pd.read_csv(file_path)\n",
    "#    print(file_df.shape)\n",
    "#    print(file_df.head)\n",
    "        \n",
    "    return(file_df)"
   ]
  },
  {
   "cell_type": "code",
   "execution_count": 4,
   "metadata": {},
   "outputs": [],
   "source": [
    "#SVM code block\n",
    "#reference code/example: https://towardsdatascience.com/support-vector-machine-python-example-d67d9b63f1c8\n",
    "def SVM_model(x_train, x_test, y_train, y_test, plot_y):\n",
    "\n",
    "    best_c = []\n",
    "    \n",
    "    #if we need to plot the results, use only the first 2 fields\n",
    "    if plot_y: \n",
    "        x_train = x_train.iloc[:, 0:2]\n",
    "        x_test = x_test.iloc[:, 0:2]\n",
    "#        print(x_train.shape)\n",
    "#        print(x_test.shape)\n",
    "    \n",
    "    cs = [0.1, 1, 10, 100, 1000]\n",
    "\n",
    "    for c in cs:\n",
    "        svc = LinearSVC(dual = False, C=c)\n",
    "        svc.fit(x_train, y_train)\n",
    "        y_test_pred = svc.predict(x_test)\n",
    "        best_c.append(1-((y_test != y_test_pred).sum()/y_test.shape[0]))\n",
    "\n",
    "    print(\"Accuracy rate for SVM:\", max(best_c), \"with C of\", cs[(best_c.index(max(best_c)))])\n",
    "    \n",
    "    if plot_y: \n",
    "        #rerun to get appropriate c value\n",
    "        svc = LinearSVC(dual = False, C=cs[(best_c.index(max(best_c)))])\n",
    "        svc.fit(x_train, y_train)\n",
    "        y_test_pred = svc.predict(x_test)\n",
    "        plt.scatter(x_train.iloc[:, 0], x_train.iloc[:, 1], c=y_train, cmap='winter');\n",
    "        ax = plt.gca()\n",
    "        xlim = ax.get_xlim()\n",
    "        w = svc.coef_[0]\n",
    "        a = -w[0] / w[1]\n",
    "        xx = np.linspace(xlim[0], xlim[1])\n",
    "        yy = a * xx - svc.intercept_[0] / w[1]\n",
    "        plt.plot(xx, yy)\n",
    "        yy = a * xx - (svc.intercept_[0] - 1) / w[1]\n",
    "        plt.plot(xx, yy, 'k--')\n",
    "        yy = a * xx - (svc.intercept_[0] + 1) / w[1]\n",
    "        plt.plot(xx, yy, 'k--')  "
   ]
  },
  {
   "cell_type": "code",
   "execution_count": 5,
   "metadata": {},
   "outputs": [],
   "source": [
    "#neural network code block\n",
    "#reference code/example: https://scikit-learn.org/stable/modules/generated/sklearn.neural_network.MLPClassifier.html\n",
    "def neural_net_model(x_train, x_test, y_train, y_test, plot_y):\n",
    "\n",
    "    best_LRI = []\n",
    "        \n",
    "    #if we need to plot the results, use only the first 2 fields\n",
    "    if plot_y: \n",
    "        x_train = x_train.iloc[:, 0:2]\n",
    "        x_test = x_test.iloc[:, 0:2]\n",
    "#        print(x_train.shape)\n",
    "#        print(x_test.shape)\n",
    "\n",
    "    #tune the step size\n",
    "    for LRI in range(1,1000):\n",
    "#        print(LRI)\n",
    "        nn_model = MLPClassifier(hidden_layer_sizes=(5, 2), max_iter=1000, random_state=3, learning_rate_init = LRI/1000).fit(x_train, y_train)\n",
    "        with warnings.catch_warnings():\n",
    "            warnings.filterwarnings(\"ignore\", category=ConvergenceWarning, module=\"sklearn\")\n",
    "        y_test_pred = nn_model.predict(x_test)\n",
    "        best_LRI.append(1-((y_test != y_test_pred).sum()/y_test.shape[0]))\n",
    "    \n",
    "    print(\"Accuracy rate for neural network: \", max(best_LRI))\n",
    "    print(\"The learning rate associated with this is: \", (best_LRI.index(max(best_LRI))+1)/1000)\n",
    "\n",
    "    if plot_y:    \n",
    "        #rerun to get appropriate neural network\n",
    "        nn_model = MLPClassifier(hidden_layer_sizes=(5, 2), max_iter=1000, random_state=3, learning_rate_init = (best_LRI.index(max(best_LRI))+1)/1000).fit(x_train, y_train)\n",
    "        y_test_pred = nn_model.predict(x_test)\n",
    "        \n",
    "        h = .02  \n",
    "        cmap_light = ListedColormap(['orange', 'cyan'])\n",
    "        cmap_bold = ListedColormap(['darkorange', 'c'])\n",
    "\n",
    "        x_min, x_max = x_train.iloc[:, 0].min() - 1, x_train.iloc[:, 0].max() + 1\n",
    "        y_min, y_max = x_train.iloc[:, 1].min() - 1, x_train.iloc[:, 1].max() + 1\n",
    "        xx, yy = np.meshgrid(np.arange(x_min, x_max, h),\n",
    "                         np.arange(y_min, y_max, h))\n",
    "        \n",
    "        Z = nn_model.predict_proba(np.c_[xx.ravel(), yy.ravel()])\n",
    "\n",
    "        Z = Z[:, 1].reshape(xx.shape)\n",
    "        plt.figure()\n",
    "        plt.pcolormesh(xx, yy, Z, cmap=cmap_light)\n",
    "    \n",
    "        plt.scatter(x_train.iloc[:, 0], x_train.iloc[:, 1], c=y_train, cmap=cmap_bold,\n",
    "                edgecolor='k', s=20)\n",
    "        plt.xlim(xx.min(), xx.max())\n",
    "        plt.ylim(yy.min(), yy.max())\n",
    "        plt.xlabel(\"Attribute 1\")\n",
    "        plt.ylabel(\"Attribute 2\")\n",
    "        plt.title(\"Neural Network Classification\")\n",
    "\n",
    "        plt.show()    "
   ]
  },
  {
   "cell_type": "code",
   "execution_count": 6,
   "metadata": {},
   "outputs": [],
   "source": [
    "#Naive Bayes modeling - https://scikit-learn.org/stable/modules/naive_bayes.html\n",
    "def NB_model(x_train, x_test, y_train, y_test, plot_y):\n",
    "    \n",
    "    #if we need to plot the results, use only the first 2 fields\n",
    "    if plot_y: \n",
    "        x_train = x_train.iloc[:, 0:2]\n",
    "        x_test = x_test.iloc[:, 0:2]\n",
    "#        print(x_train.shape)\n",
    "#        print(x_test.shape)\n",
    "    \n",
    "    naive_bayes = GaussianNB()\n",
    "    y_test_pred = naive_bayes.fit(x_train, y_train).predict(x_test)\n",
    "    print(\"Accuracy rate for naive Bayes modeling: \", 1-((y_test != y_test_pred).sum()/y_test.shape[0]))\n",
    "    \n",
    "    if plot_y:    \n",
    "        h = .02  \n",
    "        cmap_light = ListedColormap(['orange', 'cyan'])\n",
    "        cmap_bold = ListedColormap(['darkorange', 'c'])\n",
    "\n",
    "        x_min, x_max = x_train.iloc[:, 0].min() - 1, x_train.iloc[:, 0].max() + 1\n",
    "        y_min, y_max = x_train.iloc[:, 1].min() - 1, x_train.iloc[:, 1].max() + 1\n",
    "        xx, yy = np.meshgrid(np.arange(x_min, x_max, h),\n",
    "                         np.arange(y_min, y_max, h))\n",
    "        \n",
    "        Z = naive_bayes.predict_proba(np.c_[xx.ravel(), yy.ravel()])\n",
    "\n",
    "        Z = Z[:, 1].reshape(xx.shape)\n",
    "        plt.figure()\n",
    "        plt.pcolormesh(xx, yy, Z, cmap=cmap_light)\n",
    "    \n",
    "        plt.scatter(x_train.iloc[:, 0], x_train.iloc[:, 1], c=y_train, cmap=cmap_bold,\n",
    "                edgecolor='k', s=20)\n",
    "        plt.xlim(xx.min(), xx.max())\n",
    "        plt.ylim(yy.min(), yy.max())\n",
    "        plt.xlabel(\"Attribute 1\")\n",
    "        plt.ylabel(\"Attribute 2\")\n",
    "        plt.title(\"Naive Bayes Classification\")\n",
    "\n",
    "        plt.show()    "
   ]
  },
  {
   "cell_type": "code",
   "execution_count": 7,
   "metadata": {},
   "outputs": [],
   "source": [
    "#logistic regression modeling - https://scikit-learn.org/stable/modules/generated/sklearn.linear_model.LogisticRegression.html\n",
    "def log_reg_model(x_train, x_test, y_train, y_test, plot_y): \n",
    "\n",
    "    #if we need to plot the results, use only the first 2 fields\n",
    "    if plot_y: \n",
    "        x_train = x_train.iloc[:, 0:2]\n",
    "        x_test = x_test.iloc[:, 0:2]\n",
    "#        print(x_train.shape)\n",
    "#        print(x_test.shape)\n",
    "\n",
    "    log_reg = LogisticRegression()\n",
    "    log_reg.fit(x_train, y_train)\n",
    "    y_test_pred = log_reg.predict(x_test)\n",
    "    print(\"Accuracy rate for logistic regression modeling: \", 1-((y_test != y_test_pred).sum()/y_test.shape[0]))\n",
    "    \n",
    "    if plot_y:    \n",
    "        h = .02  \n",
    "        cmap_light = ListedColormap(['orange', 'cyan'])\n",
    "        cmap_bold = ListedColormap(['darkorange', 'c'])\n",
    "\n",
    "        x_min, x_max = x_train.iloc[:, 0].min() - 1, x_train.iloc[:, 0].max() + 1\n",
    "        y_min, y_max = x_train.iloc[:, 1].min() - 1, x_train.iloc[:, 1].max() + 1\n",
    "        xx, yy = np.meshgrid(np.arange(x_min, x_max, h),\n",
    "                         np.arange(y_min, y_max, h))\n",
    "        \n",
    "        Z = log_reg.predict_proba(np.c_[xx.ravel(), yy.ravel()])\n",
    "\n",
    "        Z = Z[:, 1].reshape(xx.shape)\n",
    "        plt.figure()\n",
    "        plt.pcolormesh(xx, yy, Z, cmap=cmap_light)\n",
    "    \n",
    "        plt.scatter(x_train.iloc[:, 0], x_train.iloc[:, 1], c=y_train, cmap=cmap_bold,\n",
    "                edgecolor='k', s=20)\n",
    "        plt.xlim(xx.min(), xx.max())\n",
    "        plt.ylim(yy.min(), yy.max())\n",
    "        plt.xlabel(\"Attribute 1\")\n",
    "        plt.ylabel(\"Attribute 2\")\n",
    "        plt.title(\"Logistic Regression Classification\")\n",
    "\n",
    "        plt.show()    "
   ]
  },
  {
   "cell_type": "code",
   "execution_count": 8,
   "metadata": {},
   "outputs": [],
   "source": [
    "#KNN model - https://scikit-learn.org/stable/modules/generated/sklearn.neighbors.KNeighborsClassifier.html\n",
    "# plot example - https://scikit-learn.org/stable/auto_examples/neighbors/plot_classification.html\n",
    "def KNN_model(x_train, x_test, y_train, y_test, plot_y): \n",
    "\n",
    "    best_k = []\n",
    "    \n",
    "    #if we need to plot the results, use only the first 2 fields\n",
    "    if plot_y: \n",
    "        x_train = x_train.iloc[:, 0:2]\n",
    "        x_test = x_test.iloc[:, 0:2]\n",
    "#        print(x_train.shape)\n",
    "#        print(x_test.shape)\n",
    "    \n",
    "    #find best K on the training dataset; limit to max of k=100 for reasonable run time\n",
    "    for k in range(1,min(x_train.shape[0], 100)):\n",
    "#        print(k)\n",
    "        knn = KNeighborsClassifier(n_neighbors = k)\n",
    "        knn.fit(x_train,y_train)\n",
    "        y_test_pred = knn.predict(x_test)\n",
    "        best_k.append(1-((y_test != y_test_pred).sum()/y_test.shape[0]))\n",
    "#        print(best_k)\n",
    "\n",
    "    print(\"Accuracy rate for the KNN model: \", max(best_k))\n",
    "    print(\"The K associated with this is: \", best_k.index(max(best_k))+1)\n",
    "      \n",
    "    if plot_y:    \n",
    "        h = .02  \n",
    "        cmap_light = ListedColormap(['orange', 'cyan'])\n",
    "        cmap_bold = ListedColormap(['darkorange', 'c'])\n",
    "\n",
    "        x_min, x_max = x_train.iloc[:, 0].min() - 1, x_train.iloc[:, 0].max() + 1\n",
    "        y_min, y_max = x_train.iloc[:, 1].min() - 1, x_train.iloc[:, 1].max() + 1\n",
    "        xx, yy = np.meshgrid(np.arange(x_min, x_max, h),\n",
    "                         np.arange(y_min, y_max, h))\n",
    "        \n",
    "        #rerun KNN because it will be on the k = x_train.shape[0] model from above\n",
    "        knn = KNeighborsClassifier(n_neighbors = (best_k.index(max(best_k))+1))\n",
    "        knn.fit(x_train,y_train)\n",
    "        Z = knn.predict(np.c_[xx.ravel(), yy.ravel()])\n",
    "\n",
    "        Z = Z.reshape(xx.shape)\n",
    "        plt.figure()\n",
    "        plt.pcolormesh(xx, yy, Z, cmap=cmap_light)\n",
    "    \n",
    "        plt.scatter(x_train.iloc[:, 0], x_train.iloc[:, 1], c=y_train, cmap=cmap_bold,\n",
    "                edgecolor='k', s=20)\n",
    "        plt.xlim(xx.min(), xx.max())\n",
    "        plt.ylim(yy.min(), yy.max())\n",
    "        plt.xlabel(\"Attribute 1\")\n",
    "        plt.ylabel(\"Attribute 2\")\n",
    "        plt.title(\"KNN Classification (k = %i)\" % (best_k.index(max(best_k))+1))\n",
    "\n",
    "        plt.show()"
   ]
  },
  {
   "cell_type": "code",
   "execution_count": 20,
   "metadata": {},
   "outputs": [],
   "source": [
    "#MAIN CODE BLOCK \n",
    "\n",
    "#import file and convert to Pandas dataframe\n",
    "train_file = get_file(file_2019)\n",
    "train_file = train_file.drop(['team'], axis=1)\n",
    "#print(train_file.shape)\n",
    "#print(train_file.head)\n",
    "test_file = get_file(file_2018)\n",
    "test_file = test_file.drop(['team'], axis=1)\n",
    "#test_file\n",
    "#print(test_file.shape)\n",
    "#print(test_file.head)"
   ]
  },
  {
   "cell_type": "code",
   "execution_count": 21,
   "metadata": {},
   "outputs": [
    {
     "name": "stdout",
     "output_type": "stream",
     "text": [
      "Accuracy rate for SVM: 0.7615384615384615 with C of 0.1\n"
     ]
    }
   ],
   "source": [
    "#run SVM\n",
    "SVM_model(train_file.iloc[:, :-1], test_file.iloc[:, :-1], train_file.iloc[:,-1], test_file.iloc[:,-1], 0)"
   ]
  },
  {
   "cell_type": "code",
   "execution_count": 22,
   "metadata": {},
   "outputs": [
    {
     "name": "stdout",
     "output_type": "stream",
     "text": [
      "Accuracy rate for neural network:  0.8076923076923077\n",
      "The learning rate associated with this is:  0.001\n"
     ]
    }
   ],
   "source": [
    "#run neural network\n",
    "neural_net_model(train_file.iloc[:, :-1], test_file.iloc[:, :-1], train_file.iloc[:,-1], test_file.iloc[:,-1], 0)"
   ]
  },
  {
   "cell_type": "code",
   "execution_count": 23,
   "metadata": {},
   "outputs": [
    {
     "name": "stdout",
     "output_type": "stream",
     "text": [
      "Accuracy rate for naive Bayes modeling:  0.7538461538461538\n"
     ]
    }
   ],
   "source": [
    "#run Naive Bayes model \n",
    "NB_model(train_file.iloc[:, :-1], test_file.iloc[:, :-1], train_file.iloc[:,-1], test_file.iloc[:,-1], 0)"
   ]
  },
  {
   "cell_type": "code",
   "execution_count": 24,
   "metadata": {},
   "outputs": [
    {
     "name": "stdout",
     "output_type": "stream",
     "text": [
      "Accuracy rate for logistic regression modeling:  0.8307692307692307\n"
     ]
    },
    {
     "name": "stderr",
     "output_type": "stream",
     "text": [
      "/Users/nikki.cross/.virtualenvs/school/lib/python3.7/site-packages/sklearn/linear_model/_logistic.py:764: ConvergenceWarning: lbfgs failed to converge (status=1):\n",
      "STOP: TOTAL NO. of ITERATIONS REACHED LIMIT.\n",
      "\n",
      "Increase the number of iterations (max_iter) or scale the data as shown in:\n",
      "    https://scikit-learn.org/stable/modules/preprocessing.html\n",
      "Please also refer to the documentation for alternative solver options:\n",
      "    https://scikit-learn.org/stable/modules/linear_model.html#logistic-regression\n",
      "  extra_warning_msg=_LOGISTIC_SOLVER_CONVERGENCE_MSG)\n"
     ]
    }
   ],
   "source": [
    "#run logistic regression model \n",
    "log_reg_model(train_file.iloc[:, :-1], test_file.iloc[:, :-1], train_file.iloc[:,-1], test_file.iloc[:,-1], 0)"
   ]
  },
  {
   "cell_type": "code",
   "execution_count": 25,
   "metadata": {},
   "outputs": [
    {
     "name": "stdout",
     "output_type": "stream",
     "text": [
      "Accuracy rate for the KNN model:  0.8153846153846154\n",
      "The K associated with this is:  4\n"
     ]
    }
   ],
   "source": [
    "#run k-nearest neighbors model \n",
    "KNN_model(train_file.iloc[:, :-1], test_file.iloc[:, :-1], train_file.iloc[:,-1], test_file.iloc[:,-1], 0)"
   ]
  },
  {
   "cell_type": "code",
   "execution_count": null,
   "metadata": {},
   "outputs": [],
   "source": [
    "#using 2019 as training and 2018 as test\n",
    "#Accuracy rate for SVM: 0.7769230769230769 with C of 0.1\n",
    "#Accuracy rate for neural network:  0.8076923076923077\n",
    "#The learning rate associated with this is:  0.001\n",
    "#Accuracy rate for naive Bayes modeling:  0.6692307692307693\n",
    "#Accuracy rate for logistic regression modeling:  0.7923076923076923\n",
    "#Accuracy rate for the KNN model:  0.8153846153846154\n",
    "#The K associated with this is:  3"
   ]
  },
  {
   "cell_type": "code",
   "execution_count": 26,
   "metadata": {},
   "outputs": [
    {
     "name": "stdout",
     "output_type": "stream",
     "text": [
      "Accuracy rate for SVM: 0.6793893129770993 with C of 10\n",
      "Accuracy rate for neural network:  0.8091603053435115\n",
      "The learning rate associated with this is:  0.001\n",
      "Accuracy rate for naive Bayes modeling:  0.7786259541984732\n",
      "Accuracy rate for logistic regression modeling:  0.7022900763358779\n"
     ]
    },
    {
     "name": "stderr",
     "output_type": "stream",
     "text": [
      "/Users/nikki.cross/.virtualenvs/school/lib/python3.7/site-packages/sklearn/linear_model/_logistic.py:764: ConvergenceWarning: lbfgs failed to converge (status=1):\n",
      "STOP: TOTAL NO. of ITERATIONS REACHED LIMIT.\n",
      "\n",
      "Increase the number of iterations (max_iter) or scale the data as shown in:\n",
      "    https://scikit-learn.org/stable/modules/preprocessing.html\n",
      "Please also refer to the documentation for alternative solver options:\n",
      "    https://scikit-learn.org/stable/modules/linear_model.html#logistic-regression\n",
      "  extra_warning_msg=_LOGISTIC_SOLVER_CONVERGENCE_MSG)\n"
     ]
    },
    {
     "name": "stdout",
     "output_type": "stream",
     "text": [
      "Accuracy rate for the KNN model:  0.8244274809160306\n",
      "The K associated with this is:  6\n"
     ]
    }
   ],
   "source": [
    "#run all again, reversing the test/train samples\n",
    "SVM_model(test_file.iloc[:, :-1], train_file.iloc[:, :-1], test_file.iloc[:,-1], train_file.iloc[:,-1], 0)\n",
    "neural_net_model(test_file.iloc[:, :-1], train_file.iloc[:, :-1], test_file.iloc[:,-1], train_file.iloc[:,-1], 0)\n",
    "NB_model(test_file.iloc[:, :-1], train_file.iloc[:, :-1], test_file.iloc[:,-1], train_file.iloc[:,-1], 0)\n",
    "log_reg_model(test_file.iloc[:, :-1], train_file.iloc[:, :-1], test_file.iloc[:,-1], train_file.iloc[:,-1], 0)\n",
    "KNN_model(test_file.iloc[:, :-1], train_file.iloc[:, :-1], test_file.iloc[:,-1], train_file.iloc[:,-1], 0)"
   ]
  },
  {
   "cell_type": "code",
   "execution_count": null,
   "metadata": {},
   "outputs": [],
   "source": [
    "#using 2018 as training and 2019 as test\n",
    "#Accuracy rate for SVM: 0.8091603053435115 with C of 0.1\n",
    "#Accuracy rate for neural network:  0.816793893129771\n",
    "#The learning rate associated with this is:  0.687\n",
    "#Accuracy rate for naive Bayes modeling:  0.7175572519083969\n",
    "#Accuracy rate for logistic regression modeling:  0.83206106870229\n",
    "#Accuracy rate for the KNN model:  0.8091603053435115\n",
    "#The K associated with this is:  10"
   ]
  }
 ],
 "metadata": {
  "kernelspec": {
   "display_name": "Python 3",
   "language": "python",
   "name": "python3"
  },
  "language_info": {
   "codemirror_mode": {
    "name": "ipython",
    "version": 3
   },
   "file_extension": ".py",
   "mimetype": "text/x-python",
   "name": "python",
   "nbconvert_exporter": "python",
   "pygments_lexer": "ipython3",
   "version": "3.7.6"
  }
 },
 "nbformat": 4,
 "nbformat_minor": 4
}
